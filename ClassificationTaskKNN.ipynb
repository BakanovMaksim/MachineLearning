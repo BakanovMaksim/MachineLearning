{
 "cells": [
  {
   "cell_type": "markdown",
   "id": "1a252324",
   "metadata": {},
   "source": [
    "<h1>Прогнозирование оттока клиентов банка</h1>"
   ]
  },
  {
   "cell_type": "markdown",
   "id": "aec10191",
   "metadata": {},
   "source": [
    "<h2>Описание задачи</h2>\n",
    "<p>Собрана база клиентов банка (10000 записей). Необходимо спрогнозировать, кто из клиентов собирается отказаться от услуг банка. Каждый клиент Existing Customer (существующий клиент) или Attrited Customer (ушедший клиент).  Таким образом, поставлена задача классификации. Для этой задачи будем использовать метод k-ближайших соседей.</p>"
   ]
  },
  {
   "cell_type": "code",
   "execution_count": 106,
   "id": "66c5975d",
   "metadata": {},
   "outputs": [],
   "source": [
    "import numpy as np\n",
    "import matplotlib.pyplot as plt\n",
    "import pandas as pd\n",
    "import seaborn as sns\n",
    "import sklearn\n",
    "%matplotlib inline"
   ]
  },
  {
   "cell_type": "markdown",
   "id": "f8724850",
   "metadata": {
    "scrolled": true
   },
   "source": [
    "<h2>Загрузка данных</h2>\n",
    "<p>Получаем данные из файла формата csv и сразу удаляем не используемые последние 2 столбца.</p>"
   ]
  },
  {
   "cell_type": "code",
   "execution_count": 107,
   "id": "98a97fbf",
   "metadata": {},
   "outputs": [],
   "source": [
    "url = \"https://raw.githubusercontent.com/BakanovMaksim/MachineLearning/main/BankChurners.csv\"\n",
    "buffer = pd.read_csv(url)\n",
    "data = buffer.drop([\"Naive_Bayes_Classifier_Attrition_Flag_Card_Category_Contacts_Count_12_mon_Dependent_count_Education_Level_Months_Inactive_12_mon_1\", \"Naive_Bayes_Classifier_Attrition_Flag_Card_Category_Contacts_Count_12_mon_Dependent_count_Education_Level_Months_Inactive_12_mon_2\"], axis=1)"
   ]
  },
  {
   "cell_type": "markdown",
   "id": "47b9b26b",
   "metadata": {},
   "source": [
    "<h2>Просмотр первых строк таблицы</h2>"
   ]
  },
  {
   "cell_type": "markdown",
   "id": "19cb6746",
   "metadata": {},
   "source": [
    "<strong>Используется print, потому что на githib.com,  таблица отображется не правильно!</strong>"
   ]
  },
  {
   "cell_type": "code",
   "execution_count": 108,
   "id": "37f60c10",
   "metadata": {
    "scrolled": true
   },
   "outputs": [
    {
     "name": "stdout",
     "output_type": "stream",
     "text": [
      "   CLIENTNUM     Attrition_Flag  Customer_Age Gender  Dependent_count  \\\n",
      "0  768805383  Existing Customer            45      M                3   \n",
      "1  818770008  Existing Customer            49      F                5   \n",
      "2  713982108  Existing Customer            51      M                3   \n",
      "3  769911858  Existing Customer            40      F                4   \n",
      "4  709106358  Existing Customer            40      M                3   \n",
      "\n",
      "  Education_Level Marital_Status Income_Category Card_Category  \\\n",
      "0     High School        Married     $60K - $80K          Blue   \n",
      "1        Graduate         Single  Less than $40K          Blue   \n",
      "2        Graduate        Married    $80K - $120K          Blue   \n",
      "3     High School        Unknown  Less than $40K          Blue   \n",
      "4      Uneducated        Married     $60K - $80K          Blue   \n",
      "\n",
      "   Months_on_book  ...  Months_Inactive_12_mon  Contacts_Count_12_mon  \\\n",
      "0              39  ...                       1                      3   \n",
      "1              44  ...                       1                      2   \n",
      "2              36  ...                       1                      0   \n",
      "3              34  ...                       4                      1   \n",
      "4              21  ...                       1                      0   \n",
      "\n",
      "   Credit_Limit  Total_Revolving_Bal  Avg_Open_To_Buy  Total_Amt_Chng_Q4_Q1  \\\n",
      "0       12691.0                  777          11914.0                 1.335   \n",
      "1        8256.0                  864           7392.0                 1.541   \n",
      "2        3418.0                    0           3418.0                 2.594   \n",
      "3        3313.0                 2517            796.0                 1.405   \n",
      "4        4716.0                    0           4716.0                 2.175   \n",
      "\n",
      "   Total_Trans_Amt  Total_Trans_Ct  Total_Ct_Chng_Q4_Q1  Avg_Utilization_Ratio  \n",
      "0             1144              42                1.625                  0.061  \n",
      "1             1291              33                3.714                  0.105  \n",
      "2             1887              20                2.333                  0.000  \n",
      "3             1171              20                2.333                  0.760  \n",
      "4              816              28                2.500                  0.000  \n",
      "\n",
      "[5 rows x 21 columns]\n"
     ]
    }
   ],
   "source": [
    "print(data.head())"
   ]
  },
  {
   "cell_type": "markdown",
   "id": "6e45045a",
   "metadata": {},
   "source": [
    "<ul>\n",
    "    <li><strong>CLIENTNUM</strong> - номер клиента (уникальный идентификатор)</li>\n",
    "    <li><strong>Attrition_Flag</strong> - активность клиента <strong>Class</strong> (Existing Customer-счет существует, Attrited Customer-счет закрыт)</li>\n",
    "    <li><strong>Customer_Age</strong> - возраст клиента</li>\n",
    "    <li><strong>Dependent_count</strong> - демографическая переменная</li>\n",
    "    <li><strong>Education_Level</strong> - образовательная квалификация клиента</li>\n",
    "    <li><strong>Marital_Status</strong> - семейное положение клиента</li>\n",
    "    <li><strong>Income_Category</strong> - категория годового дохода клиента</li>\n",
    "    <li><strong>Card_Category</strong> - тип банковской карты</li>\n",
    "    <li><strong>Months_on_book</strong> - срок отношений с банком</li>\n",
    "    <li><strong>Total_Relationship_Count</strong> - количество активных продуктов банка</li>\n",
    "    <li><strong>Months_Inactive_12_mon</strong> - количество месяцев бездействия за последние 12 месяцев</li>\n",
    "    <li><strong>Contacts_Count_12_mon</strong> - количество контактов за последние 12 месяцев</li>\n",
    "    <li><strong>Credit_Limit</strong> - кредитный лимит по банковской карте</li>\n",
    "    <li><strong>Total_Revolving_Bal</strong> - общий возобновляемый остаток на кредитной карте</li>\n",
    "    <li><strong>Avg_Open_To_Buy</strong> - количество использования карты для покупки (в среднем за 12 месяцев)</li>\n",
    "    <li><strong>Total_Amt_Chng_Q4_Q1</strong> - изменение суммы транзакции</li>\n",
    "    <li><strong>Total_Trans_Amt</strong> - общая сумма транзакций (последние 12 месяцев)</li>\n",
    "    <li><strong>Total_Trans_Ct</strong> - общее количество транзакций (последние 12 месяцев)</li>\n",
    "    <li><strong>Total_Ct_Chng_Q4_Q1</strong> - изменение количества транзакции</li>\n",
    "    <li><strong>Avg_Utilization_Ratio</strong> - средний коэффициент использования карты</li>\n",
    "</ul>"
   ]
  },
  {
   "cell_type": "markdown",
   "id": "4efd1ceb",
   "metadata": {},
   "source": [
    "<strong>Сводная информация о категориальных признаках</strong>"
   ]
  },
  {
   "cell_type": "code",
   "execution_count": 109,
   "id": "58fd9b1c",
   "metadata": {},
   "outputs": [
    {
     "data": {
      "text/html": [
       "<div>\n",
       "<style scoped>\n",
       "    .dataframe tbody tr th:only-of-type {\n",
       "        vertical-align: middle;\n",
       "    }\n",
       "\n",
       "    .dataframe tbody tr th {\n",
       "        vertical-align: top;\n",
       "    }\n",
       "\n",
       "    .dataframe thead th {\n",
       "        text-align: right;\n",
       "    }\n",
       "</style>\n",
       "<table border=\"1\" class=\"dataframe\">\n",
       "  <thead>\n",
       "    <tr style=\"text-align: right;\">\n",
       "      <th></th>\n",
       "      <th>CLIENTNUM</th>\n",
       "      <th>Customer_Age</th>\n",
       "      <th>Dependent_count</th>\n",
       "      <th>Months_on_book</th>\n",
       "      <th>Total_Relationship_Count</th>\n",
       "      <th>Months_Inactive_12_mon</th>\n",
       "      <th>Contacts_Count_12_mon</th>\n",
       "      <th>Credit_Limit</th>\n",
       "      <th>Total_Revolving_Bal</th>\n",
       "      <th>Avg_Open_To_Buy</th>\n",
       "      <th>Total_Amt_Chng_Q4_Q1</th>\n",
       "      <th>Total_Trans_Amt</th>\n",
       "      <th>Total_Trans_Ct</th>\n",
       "      <th>Total_Ct_Chng_Q4_Q1</th>\n",
       "      <th>Avg_Utilization_Ratio</th>\n",
       "    </tr>\n",
       "  </thead>\n",
       "  <tbody>\n",
       "    <tr>\n",
       "      <th>count</th>\n",
       "      <td>1.012700e+04</td>\n",
       "      <td>10127.000000</td>\n",
       "      <td>10127.000000</td>\n",
       "      <td>10127.000000</td>\n",
       "      <td>10127.000000</td>\n",
       "      <td>10127.000000</td>\n",
       "      <td>10127.000000</td>\n",
       "      <td>10127.000000</td>\n",
       "      <td>10127.000000</td>\n",
       "      <td>10127.000000</td>\n",
       "      <td>10127.000000</td>\n",
       "      <td>10127.000000</td>\n",
       "      <td>10127.000000</td>\n",
       "      <td>10127.000000</td>\n",
       "      <td>10127.000000</td>\n",
       "    </tr>\n",
       "    <tr>\n",
       "      <th>mean</th>\n",
       "      <td>7.391776e+08</td>\n",
       "      <td>46.325960</td>\n",
       "      <td>2.346203</td>\n",
       "      <td>35.928409</td>\n",
       "      <td>3.812580</td>\n",
       "      <td>2.341167</td>\n",
       "      <td>2.455317</td>\n",
       "      <td>8631.953698</td>\n",
       "      <td>1162.814061</td>\n",
       "      <td>7469.139637</td>\n",
       "      <td>0.759941</td>\n",
       "      <td>4404.086304</td>\n",
       "      <td>64.858695</td>\n",
       "      <td>0.712222</td>\n",
       "      <td>0.274894</td>\n",
       "    </tr>\n",
       "    <tr>\n",
       "      <th>std</th>\n",
       "      <td>3.690378e+07</td>\n",
       "      <td>8.016814</td>\n",
       "      <td>1.298908</td>\n",
       "      <td>7.986416</td>\n",
       "      <td>1.554408</td>\n",
       "      <td>1.010622</td>\n",
       "      <td>1.106225</td>\n",
       "      <td>9088.776650</td>\n",
       "      <td>814.987335</td>\n",
       "      <td>9090.685324</td>\n",
       "      <td>0.219207</td>\n",
       "      <td>3397.129254</td>\n",
       "      <td>23.472570</td>\n",
       "      <td>0.238086</td>\n",
       "      <td>0.275691</td>\n",
       "    </tr>\n",
       "    <tr>\n",
       "      <th>min</th>\n",
       "      <td>7.080821e+08</td>\n",
       "      <td>26.000000</td>\n",
       "      <td>0.000000</td>\n",
       "      <td>13.000000</td>\n",
       "      <td>1.000000</td>\n",
       "      <td>0.000000</td>\n",
       "      <td>0.000000</td>\n",
       "      <td>1438.300000</td>\n",
       "      <td>0.000000</td>\n",
       "      <td>3.000000</td>\n",
       "      <td>0.000000</td>\n",
       "      <td>510.000000</td>\n",
       "      <td>10.000000</td>\n",
       "      <td>0.000000</td>\n",
       "      <td>0.000000</td>\n",
       "    </tr>\n",
       "    <tr>\n",
       "      <th>25%</th>\n",
       "      <td>7.130368e+08</td>\n",
       "      <td>41.000000</td>\n",
       "      <td>1.000000</td>\n",
       "      <td>31.000000</td>\n",
       "      <td>3.000000</td>\n",
       "      <td>2.000000</td>\n",
       "      <td>2.000000</td>\n",
       "      <td>2555.000000</td>\n",
       "      <td>359.000000</td>\n",
       "      <td>1324.500000</td>\n",
       "      <td>0.631000</td>\n",
       "      <td>2155.500000</td>\n",
       "      <td>45.000000</td>\n",
       "      <td>0.582000</td>\n",
       "      <td>0.023000</td>\n",
       "    </tr>\n",
       "    <tr>\n",
       "      <th>50%</th>\n",
       "      <td>7.179264e+08</td>\n",
       "      <td>46.000000</td>\n",
       "      <td>2.000000</td>\n",
       "      <td>36.000000</td>\n",
       "      <td>4.000000</td>\n",
       "      <td>2.000000</td>\n",
       "      <td>2.000000</td>\n",
       "      <td>4549.000000</td>\n",
       "      <td>1276.000000</td>\n",
       "      <td>3474.000000</td>\n",
       "      <td>0.736000</td>\n",
       "      <td>3899.000000</td>\n",
       "      <td>67.000000</td>\n",
       "      <td>0.702000</td>\n",
       "      <td>0.176000</td>\n",
       "    </tr>\n",
       "    <tr>\n",
       "      <th>75%</th>\n",
       "      <td>7.731435e+08</td>\n",
       "      <td>52.000000</td>\n",
       "      <td>3.000000</td>\n",
       "      <td>40.000000</td>\n",
       "      <td>5.000000</td>\n",
       "      <td>3.000000</td>\n",
       "      <td>3.000000</td>\n",
       "      <td>11067.500000</td>\n",
       "      <td>1784.000000</td>\n",
       "      <td>9859.000000</td>\n",
       "      <td>0.859000</td>\n",
       "      <td>4741.000000</td>\n",
       "      <td>81.000000</td>\n",
       "      <td>0.818000</td>\n",
       "      <td>0.503000</td>\n",
       "    </tr>\n",
       "    <tr>\n",
       "      <th>max</th>\n",
       "      <td>8.283431e+08</td>\n",
       "      <td>73.000000</td>\n",
       "      <td>5.000000</td>\n",
       "      <td>56.000000</td>\n",
       "      <td>6.000000</td>\n",
       "      <td>6.000000</td>\n",
       "      <td>6.000000</td>\n",
       "      <td>34516.000000</td>\n",
       "      <td>2517.000000</td>\n",
       "      <td>34516.000000</td>\n",
       "      <td>3.397000</td>\n",
       "      <td>18484.000000</td>\n",
       "      <td>139.000000</td>\n",
       "      <td>3.714000</td>\n",
       "      <td>0.999000</td>\n",
       "    </tr>\n",
       "  </tbody>\n",
       "</table>\n",
       "</div>"
      ],
      "text/plain": [
       "          CLIENTNUM  Customer_Age  Dependent_count  Months_on_book  \\\n",
       "count  1.012700e+04  10127.000000     10127.000000    10127.000000   \n",
       "mean   7.391776e+08     46.325960         2.346203       35.928409   \n",
       "std    3.690378e+07      8.016814         1.298908        7.986416   \n",
       "min    7.080821e+08     26.000000         0.000000       13.000000   \n",
       "25%    7.130368e+08     41.000000         1.000000       31.000000   \n",
       "50%    7.179264e+08     46.000000         2.000000       36.000000   \n",
       "75%    7.731435e+08     52.000000         3.000000       40.000000   \n",
       "max    8.283431e+08     73.000000         5.000000       56.000000   \n",
       "\n",
       "       Total_Relationship_Count  Months_Inactive_12_mon  \\\n",
       "count              10127.000000            10127.000000   \n",
       "mean                   3.812580                2.341167   \n",
       "std                    1.554408                1.010622   \n",
       "min                    1.000000                0.000000   \n",
       "25%                    3.000000                2.000000   \n",
       "50%                    4.000000                2.000000   \n",
       "75%                    5.000000                3.000000   \n",
       "max                    6.000000                6.000000   \n",
       "\n",
       "       Contacts_Count_12_mon  Credit_Limit  Total_Revolving_Bal  \\\n",
       "count           10127.000000  10127.000000         10127.000000   \n",
       "mean                2.455317   8631.953698          1162.814061   \n",
       "std                 1.106225   9088.776650           814.987335   \n",
       "min                 0.000000   1438.300000             0.000000   \n",
       "25%                 2.000000   2555.000000           359.000000   \n",
       "50%                 2.000000   4549.000000          1276.000000   \n",
       "75%                 3.000000  11067.500000          1784.000000   \n",
       "max                 6.000000  34516.000000          2517.000000   \n",
       "\n",
       "       Avg_Open_To_Buy  Total_Amt_Chng_Q4_Q1  Total_Trans_Amt  Total_Trans_Ct  \\\n",
       "count     10127.000000          10127.000000     10127.000000    10127.000000   \n",
       "mean       7469.139637              0.759941      4404.086304       64.858695   \n",
       "std        9090.685324              0.219207      3397.129254       23.472570   \n",
       "min           3.000000              0.000000       510.000000       10.000000   \n",
       "25%        1324.500000              0.631000      2155.500000       45.000000   \n",
       "50%        3474.000000              0.736000      3899.000000       67.000000   \n",
       "75%        9859.000000              0.859000      4741.000000       81.000000   \n",
       "max       34516.000000              3.397000     18484.000000      139.000000   \n",
       "\n",
       "       Total_Ct_Chng_Q4_Q1  Avg_Utilization_Ratio  \n",
       "count         10127.000000           10127.000000  \n",
       "mean              0.712222               0.274894  \n",
       "std               0.238086               0.275691  \n",
       "min               0.000000               0.000000  \n",
       "25%               0.582000               0.023000  \n",
       "50%               0.702000               0.176000  \n",
       "75%               0.818000               0.503000  \n",
       "max               3.714000               0.999000  "
      ]
     },
     "execution_count": 109,
     "metadata": {},
     "output_type": "execute_result"
    }
   ],
   "source": [
    "data.describe()"
   ]
  },
  {
   "cell_type": "markdown",
   "id": "b221d8bb",
   "metadata": {},
   "source": [
    "<strong>Сводная информация о количественных признаках</strong>"
   ]
  },
  {
   "cell_type": "code",
   "execution_count": 110,
   "id": "cc84cadf",
   "metadata": {},
   "outputs": [
    {
     "data": {
      "text/html": [
       "<div>\n",
       "<style scoped>\n",
       "    .dataframe tbody tr th:only-of-type {\n",
       "        vertical-align: middle;\n",
       "    }\n",
       "\n",
       "    .dataframe tbody tr th {\n",
       "        vertical-align: top;\n",
       "    }\n",
       "\n",
       "    .dataframe thead th {\n",
       "        text-align: right;\n",
       "    }\n",
       "</style>\n",
       "<table border=\"1\" class=\"dataframe\">\n",
       "  <thead>\n",
       "    <tr style=\"text-align: right;\">\n",
       "      <th></th>\n",
       "      <th>Attrition_Flag</th>\n",
       "      <th>Gender</th>\n",
       "      <th>Education_Level</th>\n",
       "      <th>Marital_Status</th>\n",
       "      <th>Income_Category</th>\n",
       "      <th>Card_Category</th>\n",
       "    </tr>\n",
       "  </thead>\n",
       "  <tbody>\n",
       "    <tr>\n",
       "      <th>count</th>\n",
       "      <td>10127</td>\n",
       "      <td>10127</td>\n",
       "      <td>10127</td>\n",
       "      <td>10127</td>\n",
       "      <td>10127</td>\n",
       "      <td>10127</td>\n",
       "    </tr>\n",
       "    <tr>\n",
       "      <th>unique</th>\n",
       "      <td>2</td>\n",
       "      <td>2</td>\n",
       "      <td>7</td>\n",
       "      <td>4</td>\n",
       "      <td>6</td>\n",
       "      <td>4</td>\n",
       "    </tr>\n",
       "    <tr>\n",
       "      <th>top</th>\n",
       "      <td>Existing Customer</td>\n",
       "      <td>F</td>\n",
       "      <td>Graduate</td>\n",
       "      <td>Married</td>\n",
       "      <td>Less than $40K</td>\n",
       "      <td>Blue</td>\n",
       "    </tr>\n",
       "    <tr>\n",
       "      <th>freq</th>\n",
       "      <td>8500</td>\n",
       "      <td>5358</td>\n",
       "      <td>3128</td>\n",
       "      <td>4687</td>\n",
       "      <td>3561</td>\n",
       "      <td>9436</td>\n",
       "    </tr>\n",
       "  </tbody>\n",
       "</table>\n",
       "</div>"
      ],
      "text/plain": [
       "           Attrition_Flag Gender Education_Level Marital_Status  \\\n",
       "count               10127  10127           10127          10127   \n",
       "unique                  2      2               7              4   \n",
       "top     Existing Customer      F        Graduate        Married   \n",
       "freq                 8500   5358            3128           4687   \n",
       "\n",
       "       Income_Category Card_Category  \n",
       "count            10127         10127  \n",
       "unique               6             4  \n",
       "top     Less than $40K          Blue  \n",
       "freq              3561          9436  "
      ]
     },
     "execution_count": 110,
     "metadata": {},
     "output_type": "execute_result"
    }
   ],
   "source": [
    "data.describe(include=['object'])"
   ]
  },
  {
   "cell_type": "markdown",
   "id": "a76ee533",
   "metadata": {},
   "source": [
    "<h2>Обработка пропущенных значений</h2>"
   ]
  },
  {
   "cell_type": "code",
   "execution_count": 111,
   "id": "a4b9b332",
   "metadata": {},
   "outputs": [
    {
     "data": {
      "text/plain": [
       "CLIENTNUM                   0\n",
       "Attrition_Flag              0\n",
       "Customer_Age                0\n",
       "Gender                      0\n",
       "Dependent_count             0\n",
       "Education_Level             0\n",
       "Marital_Status              0\n",
       "Income_Category             0\n",
       "Card_Category               0\n",
       "Months_on_book              0\n",
       "Total_Relationship_Count    0\n",
       "Months_Inactive_12_mon      0\n",
       "Contacts_Count_12_mon       0\n",
       "Credit_Limit                0\n",
       "Total_Revolving_Bal         0\n",
       "Avg_Open_To_Buy             0\n",
       "Total_Amt_Chng_Q4_Q1        0\n",
       "Total_Trans_Amt             0\n",
       "Total_Trans_Ct              0\n",
       "Total_Ct_Chng_Q4_Q1         0\n",
       "Avg_Utilization_Ratio       0\n",
       "dtype: int64"
      ]
     },
     "execution_count": 111,
     "metadata": {},
     "output_type": "execute_result"
    }
   ],
   "source": [
    "data.isna().sum()"
   ]
  },
  {
   "cell_type": "markdown",
   "id": "9859624c",
   "metadata": {},
   "source": [
    "<p>Пропущенных значений нет, поэтому дальнейших действий не требуется</p>"
   ]
  },
  {
   "cell_type": "markdown",
   "id": "6a97b3fc",
   "metadata": {},
   "source": [
    "<h2>Обработка категориальных признаков</h2>"
   ]
  },
  {
   "cell_type": "markdown",
   "id": "226af9d1",
   "metadata": {},
   "source": [
    "<p>Для бинарных категориальных признаков используется метод бинаризации, а для не бинарных категориальных признаков используется метод векторизации.</p>"
   ]
  },
  {
   "cell_type": "code",
   "execution_count": 112,
   "id": "21570371",
   "metadata": {
    "scrolled": true
   },
   "outputs": [
    {
     "data": {
      "text/plain": [
       "Index(['CLIENTNUM', 'Attrition_Flag', 'Customer_Age', 'Gender',\n",
       "       'Dependent_count', 'Education_Level', 'Marital_Status',\n",
       "       'Income_Category', 'Card_Category', 'Months_on_book',\n",
       "       'Total_Relationship_Count', 'Months_Inactive_12_mon',\n",
       "       'Contacts_Count_12_mon', 'Credit_Limit', 'Total_Revolving_Bal',\n",
       "       'Avg_Open_To_Buy', 'Total_Amt_Chng_Q4_Q1', 'Total_Trans_Amt',\n",
       "       'Total_Trans_Ct', 'Total_Ct_Chng_Q4_Q1', 'Avg_Utilization_Ratio',\n",
       "       'College', 'Doctorate', 'Graduate', 'High School', 'Post-Graduate',\n",
       "       'Uneducated', 'Unknown', 'Divorced', 'Married', 'Single', 'Unknown',\n",
       "       '$120K +', '$40K - $60K', '$60K - $80K', '$80K - $120K',\n",
       "       'Less than $40K', 'Unknown', 'Blue', 'Gold', 'Platinum', 'Silver'],\n",
       "      dtype='object')"
      ]
     },
     "execution_count": 112,
     "metadata": {},
     "output_type": "execute_result"
    }
   ],
   "source": [
    "data_noncategorial = data.copy()\n",
    "data_noncategorial[\"Attrition_Flag\"] = pd.factorize(data[\"Attrition_Flag\"])[0]\n",
    "data_noncategorial[\"Gender\"] = pd.factorize(data[\"Gender\"])[0]\n",
    "\n",
    "categorical_columns = [c for c in data.columns.drop([\"Attrition_Flag\", \"Gender\"]) if data[c].dtype.name == 'object']\n",
    "numerical_columns   = [c for c in data.columns if data[c].dtype.name != 'object']\n",
    "\n",
    "for column in categorical_columns:\n",
    "    data_noncategorial = pd.concat((data_noncategorial, pd.get_dummies(data[column])), axis=1)\n",
    "\n",
    "data_noncategorial.columns"
   ]
  },
  {
   "cell_type": "markdown",
   "id": "cc8711d4",
   "metadata": {},
   "source": [
    "<h2>Разбиение данных на тестовые и тренировочные</h2>"
   ]
  },
  {
   "cell_type": "markdown",
   "id": "36acf34f",
   "metadata": {},
   "source": [
    "Перед обработкой данных из датасета, разделим на обучающую и тестовую выборки, чтобы произвести обработку данных только для обучающей выборки."
   ]
  },
  {
   "cell_type": "code",
   "execution_count": 113,
   "id": "080c2f3d",
   "metadata": {},
   "outputs": [
    {
     "name": "stdout",
     "output_type": "stream",
     "text": [
      "7595 2532\n"
     ]
    }
   ],
   "source": [
    "X = data_noncategorial.drop([\"CLIENTNUM\", \"Education_Level\", \"Marital_Status\", \"Income_Category\", \"Card_Category\", \"Attrition_Flag\"], axis=1)\n",
    "y = data_noncategorial[\"Attrition_Flag\"]\n",
    "\n",
    "from sklearn.model_selection import train_test_split\n",
    "X_train, X_test, y_train, y_test = train_test_split(X, y, test_size = 0.25, random_state = 1)\n",
    "\n",
    "N_train, _ = X_train.shape \n",
    "N_test,  _ = X_test.shape\n",
    "\n",
    "print(N_train, N_test)"
   ]
  },
  {
   "cell_type": "markdown",
   "id": "41d50783",
   "metadata": {},
   "source": [
    "<h2>Визуализация данных</h2>"
   ]
  },
  {
   "cell_type": "code",
   "execution_count": 114,
   "id": "358793b4",
   "metadata": {},
   "outputs": [
    {
     "data": {
      "image/png": "[encoded data removed]",
      "text/plain": [
       "<Figure size 432x288 with 1 Axes>"
      ]
     },
     "metadata": {
      "needs_background": "light"
     },
     "output_type": "display_data"
    }
   ],
   "source": [
    "np.random.seed(42)\n",
    "\n",
    "random_subset = np.random.choice(np.arange(data.shape[0]), size=1000, replace=False)\n",
    "plt.scatter(data.iloc[random_subset][\"Months_on_book\"], data.iloc[random_subset][\"Attrition_Flag\"], alpha = .3)\n",
    "plt.xlabel(\"Срок отношений с банком\")\n",
    "plt.ylabel(\"Активность клиента\")\n",
    "plt.title(\"Срок отношений\")\n",
    "pass"
   ]
  },
  {
   "cell_type": "code",
   "execution_count": 115,
   "id": "8f205bf0",
   "metadata": {},
   "outputs": [
    {
     "data": {
      "image/png": "[encoded data removed]",
      "text/plain": [
       "<Figure size 432x288 with 1 Axes>"
      ]
     },
     "metadata": {
      "needs_background": "light"
     },
     "output_type": "display_data"
    }
   ],
   "source": [
    "plt.scatter(data.iloc[random_subset][\"Total_Trans_Amt\"], data.iloc[random_subset][\"Attrition_Flag\"], alpha = .3)\n",
    "plt.xlabel(\"Общая сумма транзакций\")\n",
    "plt.ylabel(\"Активность клиента\")\n",
    "plt.title(\"Сумма транзакций\")\n",
    "pass"
   ]
  },
  {
   "cell_type": "code",
   "execution_count": 116,
   "id": "f078a02e",
   "metadata": {},
   "outputs": [
    {
     "data": {
      "image/png": "[encoded data removed]",
      "text/plain": [
       "<Figure size 432x288 with 1 Axes>"
      ]
     },
     "metadata": {
      "needs_background": "light"
     },
     "output_type": "display_data"
    }
   ],
   "source": [
    "plt.scatter(data.iloc[random_subset][\"Avg_Utilization_Ratio\"], data.iloc[random_subset][\"Attrition_Flag\"], alpha = .3)\n",
    "plt.xlabel(\"Ср. коэф. использования карты\")\n",
    "plt.ylabel(\"Активность клиента\")\n",
    "plt.title(\"Использование карты\")\n",
    "pass"
   ]
  },
  {
   "cell_type": "code",
   "execution_count": 117,
   "id": "efb7d1fd",
   "metadata": {},
   "outputs": [
    {
     "data": {
      "image/png": "[encoded data removed]",
      "text/plain": [
       "<Figure size 720x576 with 1 Axes>"
      ]
     },
     "metadata": {
      "needs_background": "light"
     },
     "output_type": "display_data"
    }
   ],
   "source": [
    "plt.figure(figsize = (10, 8))\n",
    "sns.scatterplot(x=\"Total_Trans_Amt\", y=\"Avg_Open_To_Buy\", size=\"Card_Category\", hue=\"Attrition_Flag\", data=data.iloc[random_subset], alpha=0.7)\n",
    "pass"
   ]
  },
  {
   "cell_type": "markdown",
   "id": "eaa00522",
   "metadata": {},
   "source": [
    "По диаграммам рассеивания, видно, что у уходящих клиентов показатели ниже, чем у активных"
   ]
  },
  {
   "cell_type": "markdown",
   "id": "f95cbaa7",
   "metadata": {},
   "source": [
    "<h2>Матрица корреляции</h2>"
   ]
  },
  {
   "cell_type": "markdown",
   "id": "550545d1",
   "metadata": {},
   "source": [
    "Вычисление матрицы корреляции для обучающей выборки\n",
    "\n",
    "<strong>Используется print, потому что на githib.com,  таблица отображется не правильно!</strong>"
   ]
  },
  {
   "cell_type": "code",
   "execution_count": 118,
   "id": "d0962e2a",
   "metadata": {},
   "outputs": [
    {
     "name": "stdout",
     "output_type": "stream",
     "text": [
      "                          Customer_Age    Gender  Dependent_count  \\\n",
      "Customer_Age                  1.000000  0.019416        -0.118558   \n",
      "Gender                        0.019416  1.000000         0.002260   \n",
      "Dependent_count              -0.118558  0.002260         1.000000   \n",
      "Months_on_book                0.789204  0.004708        -0.100702   \n",
      "Total_Relationship_Count     -0.008110 -0.016881        -0.049020   \n",
      "Months_Inactive_12_mon        0.054819  0.002449        -0.006822   \n",
      "Contacts_Count_12_mon        -0.025042 -0.036277        -0.049691   \n",
      "Credit_Limit                  0.005058 -0.417851         0.062603   \n",
      "Total_Revolving_Bal           0.017323 -0.025327        -0.006283   \n",
      "Avg_Open_To_Buy               0.003512 -0.415359         0.063127   \n",
      "Total_Amt_Chng_Q4_Q1         -0.053763 -0.028241        -0.043500   \n",
      "Total_Trans_Amt              -0.041325 -0.020750         0.028911   \n",
      "Total_Trans_Ct               -0.061511  0.067352         0.056400   \n",
      "Total_Ct_Chng_Q4_Q1          -0.000415  0.005948         0.008838   \n",
      "Avg_Utilization_Ratio         0.004717  0.255962        -0.038911   \n",
      "College                      -0.002913  0.000485         0.004739   \n",
      "Doctorate                     0.029441  0.015507        -0.017957   \n",
      "Graduate                     -0.000332 -0.003386         0.016513   \n",
      "High School                   0.001637 -0.013410        -0.025378   \n",
      "Post-Graduate                -0.023020 -0.007117         0.013602   \n",
      "Uneducated                    0.004140  0.008840        -0.001696   \n",
      "Unknown                      -0.005947  0.005547         0.006674   \n",
      "Divorced                     -0.041498  0.000997         0.005119   \n",
      "Married                       0.043385 -0.004667         0.008907   \n",
      "Single                       -0.009176  0.015659        -0.032409   \n",
      "Unknown                      -0.023585 -0.021181         0.038003   \n",
      "$120K +                       0.036730 -0.293581         0.028944   \n",
      "$40K - $60K                  -0.016802  0.035358         0.000753   \n",
      "$60K - $80K                  -0.022921 -0.427013         0.018438   \n",
      "$80K - $120K                  0.018406 -0.447979         0.039075   \n",
      "Less than $40K               -0.007777  0.578902        -0.042453   \n",
      "Unknown                       0.006586  0.296706        -0.024805   \n",
      "Blue                          0.024319  0.079631        -0.029585   \n",
      "Gold                         -0.013907 -0.046292         0.029809   \n",
      "Platinum                      0.006561 -0.011330         0.002542   \n",
      "Silver                       -0.021922 -0.064773         0.018829   \n",
      "\n",
      "                          Months_on_book  Total_Relationship_Count  \\\n",
      "Customer_Age                    0.789204                 -0.008110   \n",
      "Gender                          0.004708                 -0.016881   \n",
      "Dependent_count                -0.100702                 -0.049020   \n",
      "Months_on_book                  1.000000                 -0.006900   \n",
      "Total_Relationship_Count       -0.006900                  1.000000   \n",
      "Months_Inactive_12_mon          0.077096                 -0.000466   \n",
      "Contacts_Count_12_mon          -0.017036                  0.065126   \n",
      "Credit_Limit                    0.013817                 -0.066421   \n",
      "Total_Revolving_Bal             0.010674                  0.002428   \n",
      "Avg_Open_To_Buy                 0.012858                 -0.066600   \n",
      "Total_Amt_Chng_Q4_Q1           -0.038385                  0.047152   \n",
      "Total_Trans_Amt                -0.033004                 -0.351761   \n",
      "Total_Trans_Ct                 -0.046525                 -0.244903   \n",
      "Total_Ct_Chng_Q4_Q1            -0.005655                  0.039771   \n",
      "Avg_Utilization_Ratio          -0.015066                  0.053567   \n",
      "College                         0.001550                 -0.012690   \n",
      "Doctorate                       0.023917                 -0.006391   \n",
      "Graduate                       -0.002862                  0.007270   \n",
      "High School                    -0.001051                 -0.005223   \n",
      "Post-Graduate                  -0.014196                  0.008652   \n",
      "Uneducated                      0.005315                  0.018018   \n",
      "Unknown                        -0.006854                 -0.012572   \n",
      "Divorced                       -0.029522                  0.013548   \n",
      "Married                         0.034140                  0.008348   \n",
      "Single                         -0.008981                 -0.017114   \n",
      "Unknown                        -0.018463                  0.002151   \n",
      "$120K +                         0.028756                 -0.010304   \n",
      "$40K - $60K                    -0.013415                 -0.016173   \n",
      "$60K - $80K                    -0.017636                  0.015285   \n",
      "$80K - $120K                    0.019530                  0.010295   \n",
      "Less than $40K                 -0.007079                 -0.001463   \n",
      "Unknown                         0.000812                  0.001808   \n",
      "Blue                            0.016629                  0.084691   \n",
      "Gold                           -0.008850                 -0.051543   \n",
      "Platinum                        0.009027                 -0.047885   \n",
      "Silver                         -0.016205                 -0.060580   \n",
      "\n",
      "                          Months_Inactive_12_mon  Contacts_Count_12_mon  \\\n",
      "Customer_Age                            0.054819              -0.025042   \n",
      "Gender                                  0.002449              -0.036277   \n",
      "Dependent_count                        -0.006822              -0.049691   \n",
      "Months_on_book                          0.077096              -0.017036   \n",
      "Total_Relationship_Count               -0.000466               0.065126   \n",
      "Months_Inactive_12_mon                  1.000000               0.019565   \n",
      "Contacts_Count_12_mon                   0.019565               1.000000   \n",
      "Credit_Limit                           -0.016177               0.019433   \n",
      "Total_Revolving_Bal                    -0.035632              -0.042129   \n",
      "Avg_Open_To_Buy                        -0.012993               0.023175   \n",
      "Total_Amt_Chng_Q4_Q1                   -0.031908              -0.019431   \n",
      "Total_Trans_Amt                        -0.036496              -0.115393   \n",
      "Total_Trans_Ct                         -0.042884              -0.153468   \n",
      "Total_Ct_Chng_Q4_Q1                    -0.027072              -0.089968   \n",
      "Avg_Utilization_Ratio                  -0.008230              -0.053004   \n",
      "College                                -0.002700               0.000056   \n",
      "Doctorate                               0.009124              -0.001285   \n",
      "Graduate                                0.007333               0.000260   \n",
      "High School                            -0.004168              -0.014560   \n",
      "Post-Graduate                          -0.002836              -0.001786   \n",
      "Uneducated                             -0.002035               0.014960   \n",
      "Unknown                                -0.004049               0.002730   \n",
      "Divorced                               -0.002148              -0.006435   \n",
      "Married                                -0.013320              -0.006147   \n",
      "Single                                  0.018367               0.013317   \n",
      "Unknown                                -0.006546              -0.006495   \n",
      "$120K +                                -0.000124               0.023394   \n",
      "$40K - $60K                            -0.016753               0.006627   \n",
      "$60K - $80K                            -0.004224               0.004467   \n",
      "$80K - $120K                           -0.005914               0.003904   \n",
      "Less than $40K                          0.024751              -0.023141   \n",
      "Unknown                                -0.005703              -0.001368   \n",
      "Blue                                    0.023809               0.000523   \n",
      "Gold                                   -0.008770               0.005825   \n",
      "Platinum                               -0.007866               0.000057   \n",
      "Silver                                 -0.020697              -0.003161   \n",
      "\n",
      "                          Credit_Limit  Total_Revolving_Bal  Avg_Open_To_Buy  \\\n",
      "Customer_Age                  0.005058             0.017323         0.003512   \n",
      "Gender                       -0.417851            -0.025327        -0.415359   \n",
      "Dependent_count               0.062603            -0.006283         0.063127   \n",
      "Months_on_book                0.013817             0.010674         0.012858   \n",
      "Total_Relationship_Count     -0.066421             0.002428        -0.066600   \n",
      "Months_Inactive_12_mon       -0.016177            -0.035632        -0.012993   \n",
      "Contacts_Count_12_mon         0.019433            -0.042129         0.023175   \n",
      "Credit_Limit                  1.000000             0.038262         0.996029   \n",
      "Total_Revolving_Bal           0.038262             1.000000        -0.050855   \n",
      "Avg_Open_To_Buy               0.996029            -0.050855         1.000000   \n",
      "Total_Amt_Chng_Q4_Q1          0.013932             0.053611         0.009148   \n",
      "Total_Trans_Amt               0.176920             0.068527         0.170715   \n",
      "Total_Trans_Ct                0.080226             0.059369         0.074891   \n",
      "Total_Ct_Chng_Q4_Q1           0.003927             0.090810        -0.004166   \n",
      "Avg_Utilization_Ratio        -0.484182             0.622711        -0.539390   \n",
      "College                       0.005312            -0.018000         0.006912   \n",
      "Doctorate                     0.003710            -0.008697         0.004482   \n",
      "Graduate                     -0.006901            -0.000139        -0.006885   \n",
      "High School                   0.000970             0.023470        -0.001122   \n",
      "Post-Graduate                 0.003501             0.004569         0.003092   \n",
      "Uneducated                    0.005720            -0.003830         0.006058   \n",
      "Unknown                      -0.006678            -0.004774        -0.006249   \n",
      "Divorced                      0.017800            -0.005420         0.018273   \n",
      "Married                      -0.059894             0.043075        -0.063698   \n",
      "Single                        0.035993            -0.041049         0.039630   \n",
      "Unknown                       0.029240            -0.000361         0.029256   \n",
      "$120K +                       0.345251             0.022830         0.343023   \n",
      "$40K - $60K                  -0.161320             0.009688        -0.162093   \n",
      "$60K - $80K                   0.090634            -0.004830         0.091013   \n",
      "$80K - $120K                  0.330907             0.012851         0.329576   \n",
      "Less than $40K               -0.393515            -0.012228        -0.392204   \n",
      "Unknown                       0.036335            -0.021174         0.038201   \n",
      "Blue                         -0.513979            -0.022683        -0.511669   \n",
      "Gold                          0.230906             0.017530         0.229214   \n",
      "Platinum                      0.108383             0.005016         0.107875   \n",
      "Silver                        0.440914             0.016166         0.439226   \n",
      "\n",
      "                          ...   $120K +  $40K - $60K  $60K - $80K  \\\n",
      "Customer_Age              ...  0.036730    -0.016802    -0.022921   \n",
      "Gender                    ... -0.293581     0.035358    -0.427013   \n",
      "Dependent_count           ...  0.028944     0.000753     0.018438   \n",
      "Months_on_book            ...  0.028756    -0.013415    -0.017636   \n",
      "Total_Relationship_Count  ... -0.010304    -0.016173     0.015285   \n",
      "Months_Inactive_12_mon    ... -0.000124    -0.016753    -0.004224   \n",
      "Contacts_Count_12_mon     ...  0.023394     0.006627     0.004467   \n",
      "Credit_Limit              ...  0.345251    -0.161320     0.090634   \n",
      "Total_Revolving_Bal       ...  0.022830     0.009688    -0.004830   \n",
      "Avg_Open_To_Buy           ...  0.343023    -0.162093     0.091013   \n",
      "Total_Amt_Chng_Q4_Q1      ... -0.007742     0.001115     0.019214   \n",
      "Total_Trans_Amt           ...  0.013189    -0.001549     0.007860   \n",
      "Total_Trans_Ct            ... -0.009788     0.000918    -0.028469   \n",
      "Total_Ct_Chng_Q4_Q1       ... -0.029428    -0.002796     0.016369   \n",
      "Avg_Utilization_Ratio     ... -0.148459     0.066219    -0.098219   \n",
      "College                   ... -0.007444     0.004338    -0.013410   \n",
      "Doctorate                 ...  0.018296     0.002066    -0.008249   \n",
      "Graduate                  ... -0.025125    -0.002851     0.011794   \n",
      "High School               ...  0.004995    -0.005863     0.019036   \n",
      "Post-Graduate             ... -0.007072     0.026512     0.001810   \n",
      "Uneducated                ...  0.014845    -0.014016    -0.007670   \n",
      "Unknown                   ...  0.012230     0.003187    -0.013916   \n",
      "Divorced                  ... -0.007491     0.005033     0.005552   \n",
      "Married                   ...  0.006687    -0.000066     0.002891   \n",
      "Single                    ...  0.004416    -0.003779    -0.009868   \n",
      "Unknown                   ... -0.013346     0.002044     0.007190   \n",
      "$120K +                   ...  1.000000    -0.128536    -0.110664   \n",
      "$40K - $60K               ... -0.128536     1.000000    -0.186955   \n",
      "$60K - $80K               ... -0.110664    -0.186955     1.000000   \n",
      "$80K - $120K              ... -0.116097    -0.196134    -0.168863   \n",
      "Less than $40K            ... -0.202743    -0.342513    -0.294889   \n",
      "Unknown                   ... -0.097464    -0.164655    -0.141761   \n",
      "Blue                      ... -0.044870     0.008200    -0.029984   \n",
      "Gold                      ...  0.046370    -0.028294     0.043657   \n",
      "Platinum                  ...  0.019543    -0.014794     0.013247   \n",
      "Silver                    ...  0.024854     0.006502     0.010969   \n",
      "\n",
      "                          $80K - $120K  Less than $40K   Unknown      Blue  \\\n",
      "Customer_Age                  0.018406       -0.007777  0.006586  0.024319   \n",
      "Gender                       -0.447979        0.578902  0.296706  0.079631   \n",
      "Dependent_count               0.039075       -0.042453 -0.024805 -0.029585   \n",
      "Months_on_book                0.019530       -0.007079  0.000812  0.016629   \n",
      "Total_Relationship_Count      0.010295       -0.001463  0.001808  0.084691   \n",
      "Months_Inactive_12_mon       -0.005914        0.024751 -0.005703  0.023809   \n",
      "Contacts_Count_12_mon         0.003904       -0.023141 -0.001368  0.000523   \n",
      "Credit_Limit                  0.330907       -0.393515  0.036335 -0.513979   \n",
      "Total_Revolving_Bal           0.012851       -0.012228 -0.021174 -0.022683   \n",
      "Avg_Open_To_Buy               0.329576       -0.392204  0.038201 -0.511669   \n",
      "Total_Amt_Chng_Q4_Q1          0.017311       -0.026163  0.003862 -0.009978   \n",
      "Total_Trans_Amt               0.005150       -0.004276 -0.016888 -0.192624   \n",
      "Total_Trans_Ct               -0.039100        0.044329  0.015352 -0.130748   \n",
      "Total_Ct_Chng_Q4_Q1           0.002069       -0.000481  0.007790  0.002227   \n",
      "Avg_Utilization_Ratio        -0.172100        0.272515 -0.069611  0.215874   \n",
      "College                       0.019861       -0.000670 -0.006050 -0.006892   \n",
      "Doctorate                    -0.015092       -0.003364  0.013916 -0.001231   \n",
      "Graduate                      0.002826        0.011069 -0.009029 -0.008531   \n",
      "High School                   0.000101       -0.019044  0.010945  0.009497   \n",
      "Post-Graduate                -0.000823       -0.011348 -0.010356 -0.007528   \n",
      "Uneducated                   -0.007950        0.004468  0.015668  0.005875   \n",
      "Unknown                      -0.003427        0.011960 -0.012824  0.005731   \n",
      "Divorced                     -0.001368       -0.009092  0.009240  0.012757   \n",
      "Married                       0.007234       -0.003170 -0.011974  0.043022   \n",
      "Single                       -0.020516        0.018129  0.007670 -0.034681   \n",
      "Unknown                       0.025683       -0.018405 -0.000783 -0.030476   \n",
      "$120K +                      -0.116097       -0.202743 -0.097464 -0.044870   \n",
      "$40K - $60K                  -0.196134       -0.342513 -0.164655  0.008200   \n",
      "$60K - $80K                  -0.168863       -0.294889 -0.141761 -0.029984   \n",
      "$80K - $120K                  1.000000       -0.309368 -0.148721 -0.047264   \n",
      "Less than $40K               -0.309368        1.000000 -0.259715  0.066916   \n",
      "Unknown                      -0.148721       -0.259715  1.000000  0.011748   \n",
      "Blue                         -0.047264        0.066916  0.011748  1.000000   \n",
      "Gold                          0.013659       -0.030651 -0.020364 -0.377926   \n",
      "Platinum                     -0.004351       -0.011460  0.009873 -0.172404   \n",
      "Silver                        0.046805       -0.057682 -0.005921 -0.897198   \n",
      "\n",
      "                              Gold  Platinum    Silver  \n",
      "Customer_Age             -0.013907  0.006561 -0.021922  \n",
      "Gender                   -0.046292 -0.011330 -0.064773  \n",
      "Dependent_count           0.029809  0.002542  0.018829  \n",
      "Months_on_book           -0.008850  0.009027 -0.016205  \n",
      "Total_Relationship_Count -0.051543 -0.047885 -0.060580  \n",
      "Months_Inactive_12_mon   -0.008770 -0.007866 -0.020697  \n",
      "Contacts_Count_12_mon     0.005825  0.000057 -0.003161  \n",
      "Credit_Limit              0.230906  0.108383  0.440914  \n",
      "Total_Revolving_Bal       0.017530  0.005016  0.016166  \n",
      "Avg_Open_To_Buy           0.229214  0.107875  0.439226  \n",
      "Total_Amt_Chng_Q4_Q1      0.007348  0.001167  0.007484  \n",
      "Total_Trans_Amt           0.074022  0.068294  0.165145  \n",
      "Total_Trans_Ct            0.054503  0.050781  0.109313  \n",
      "Total_Ct_Chng_Q4_Q1      -0.002594 -0.006114 -0.000058  \n",
      "Avg_Utilization_Ratio    -0.082655 -0.039507 -0.192743  \n",
      "College                   0.011892 -0.015897  0.005552  \n",
      "Doctorate                 0.002667  0.016963 -0.003275  \n",
      "Graduate                 -0.005488  0.010605  0.009648  \n",
      "High School               0.006412 -0.016510 -0.009917  \n",
      "Post-Graduate             0.005431  0.014596  0.002907  \n",
      "Uneducated               -0.018543 -0.004319  0.002616  \n",
      "Unknown                   0.003616  0.003780 -0.008668  \n",
      "Divorced                 -0.029799 -0.013594  0.001913  \n",
      "Married                  -0.017435 -0.010781 -0.037395  \n",
      "Single                    0.023608  0.014236  0.024794  \n",
      "Unknown                   0.019550  0.007868  0.023261  \n",
      "$120K +                   0.046370  0.019543  0.024854  \n",
      "$40K - $60K              -0.028294 -0.014794  0.006502  \n",
      "$60K - $80K               0.043657  0.013247  0.010969  \n",
      "$80K - $120K              0.013659 -0.004351  0.046805  \n",
      "Less than $40K           -0.030651 -0.011460 -0.057682  \n",
      "Unknown                  -0.020364  0.009873 -0.005921  \n",
      "Blue                     -0.377926 -0.172404 -0.897198  \n",
      "Gold                      1.000000 -0.004918 -0.025591  \n",
      "Platinum                 -0.004918  1.000000 -0.011674  \n",
      "Silver                   -0.025591 -0.011674  1.000000  \n",
      "\n",
      "[36 rows x 36 columns]\n"
     ]
    }
   ],
   "source": [
    "corr_mat = X_train.corr()\n",
    "print(corr_mat)"
   ]
  },
  {
   "cell_type": "markdown",
   "id": "fd24711c",
   "metadata": {},
   "source": [
    "<p>Визуализируем матрицу корреляции</p>"
   ]
  },
  {
   "cell_type": "code",
   "execution_count": 119,
   "id": "be1d8954",
   "metadata": {},
   "outputs": [
    {
     "data": {
      "image/png": "[encoded data removed]",
      "text/plain": [
       "<Figure size 432x288 with 2 Axes>"
      ]
     },
     "metadata": {
      "needs_background": "light"
     },
     "output_type": "display_data"
    }
   ],
   "source": [
    "sns.heatmap(corr_mat, square=True, cmap='coolwarm')\n",
    "pass"
   ]
  },
  {
   "cell_type": "markdown",
   "id": "a9d5fb0c",
   "metadata": {},
   "source": [
    "<strong>Используется print, потому что на githib.com,  таблица отображется не правильно!</strong>"
   ]
  },
  {
   "cell_type": "code",
   "execution_count": 120,
   "id": "d4f65bab",
   "metadata": {},
   "outputs": [
    {
     "name": "stdout",
     "output_type": "stream",
     "text": [
      "                          Customer_Age  Gender  Dependent_count  \\\n",
      "Customer_Age                      True   False            False   \n",
      "Gender                           False    True            False   \n",
      "Dependent_count                  False   False             True   \n",
      "Months_on_book                    True   False            False   \n",
      "Total_Relationship_Count         False   False            False   \n",
      "Months_Inactive_12_mon           False   False            False   \n",
      "Contacts_Count_12_mon            False   False            False   \n",
      "Credit_Limit                     False   False            False   \n",
      "Total_Revolving_Bal              False   False            False   \n",
      "Avg_Open_To_Buy                  False   False            False   \n",
      "Total_Amt_Chng_Q4_Q1             False   False            False   \n",
      "Total_Trans_Amt                  False   False            False   \n",
      "Total_Trans_Ct                   False   False            False   \n",
      "Total_Ct_Chng_Q4_Q1              False   False            False   \n",
      "Avg_Utilization_Ratio            False   False            False   \n",
      "College                          False   False            False   \n",
      "Doctorate                        False   False            False   \n",
      "Graduate                         False   False            False   \n",
      "High School                      False   False            False   \n",
      "Post-Graduate                    False   False            False   \n",
      "Uneducated                       False   False            False   \n",
      "Unknown                          False   False            False   \n",
      "Divorced                         False   False            False   \n",
      "Married                          False   False            False   \n",
      "Single                           False   False            False   \n",
      "Unknown                          False   False            False   \n",
      "$120K +                          False   False            False   \n",
      "$40K - $60K                      False   False            False   \n",
      "$60K - $80K                      False   False            False   \n",
      "$80K - $120K                     False   False            False   \n",
      "Less than $40K                   False    True            False   \n",
      "Unknown                          False   False            False   \n",
      "Blue                             False   False            False   \n",
      "Gold                             False   False            False   \n",
      "Platinum                         False   False            False   \n",
      "Silver                           False   False            False   \n",
      "\n",
      "                          Months_on_book  Total_Relationship_Count  \\\n",
      "Customer_Age                        True                     False   \n",
      "Gender                             False                     False   \n",
      "Dependent_count                    False                     False   \n",
      "Months_on_book                      True                     False   \n",
      "Total_Relationship_Count           False                      True   \n",
      "Months_Inactive_12_mon             False                     False   \n",
      "Contacts_Count_12_mon              False                     False   \n",
      "Credit_Limit                       False                     False   \n",
      "Total_Revolving_Bal                False                     False   \n",
      "Avg_Open_To_Buy                    False                     False   \n",
      "Total_Amt_Chng_Q4_Q1               False                     False   \n",
      "Total_Trans_Amt                    False                     False   \n",
      "Total_Trans_Ct                     False                     False   \n",
      "Total_Ct_Chng_Q4_Q1                False                     False   \n",
      "Avg_Utilization_Ratio              False                     False   \n",
      "College                            False                     False   \n",
      "Doctorate                          False                     False   \n",
      "Graduate                           False                     False   \n",
      "High School                        False                     False   \n",
      "Post-Graduate                      False                     False   \n",
      "Uneducated                         False                     False   \n",
      "Unknown                            False                     False   \n",
      "Divorced                           False                     False   \n",
      "Married                            False                     False   \n",
      "Single                             False                     False   \n",
      "Unknown                            False                     False   \n",
      "$120K +                            False                     False   \n",
      "$40K - $60K                        False                     False   \n",
      "$60K - $80K                        False                     False   \n",
      "$80K - $120K                       False                     False   \n",
      "Less than $40K                     False                     False   \n",
      "Unknown                            False                     False   \n",
      "Blue                               False                     False   \n",
      "Gold                               False                     False   \n",
      "Platinum                           False                     False   \n",
      "Silver                             False                     False   \n",
      "\n",
      "                          Months_Inactive_12_mon  Contacts_Count_12_mon  \\\n",
      "Customer_Age                               False                  False   \n",
      "Gender                                     False                  False   \n",
      "Dependent_count                            False                  False   \n",
      "Months_on_book                             False                  False   \n",
      "Total_Relationship_Count                   False                  False   \n",
      "Months_Inactive_12_mon                      True                  False   \n",
      "Contacts_Count_12_mon                      False                   True   \n",
      "Credit_Limit                               False                  False   \n",
      "Total_Revolving_Bal                        False                  False   \n",
      "Avg_Open_To_Buy                            False                  False   \n",
      "Total_Amt_Chng_Q4_Q1                       False                  False   \n",
      "Total_Trans_Amt                            False                  False   \n",
      "Total_Trans_Ct                             False                  False   \n",
      "Total_Ct_Chng_Q4_Q1                        False                  False   \n",
      "Avg_Utilization_Ratio                      False                  False   \n",
      "College                                    False                  False   \n",
      "Doctorate                                  False                  False   \n",
      "Graduate                                   False                  False   \n",
      "High School                                False                  False   \n",
      "Post-Graduate                              False                  False   \n",
      "Uneducated                                 False                  False   \n",
      "Unknown                                    False                  False   \n",
      "Divorced                                   False                  False   \n",
      "Married                                    False                  False   \n",
      "Single                                     False                  False   \n",
      "Unknown                                    False                  False   \n",
      "$120K +                                    False                  False   \n",
      "$40K - $60K                                False                  False   \n",
      "$60K - $80K                                False                  False   \n",
      "$80K - $120K                               False                  False   \n",
      "Less than $40K                             False                  False   \n",
      "Unknown                                    False                  False   \n",
      "Blue                                       False                  False   \n",
      "Gold                                       False                  False   \n",
      "Platinum                                   False                  False   \n",
      "Silver                                     False                  False   \n",
      "\n",
      "                          Credit_Limit  Total_Revolving_Bal  Avg_Open_To_Buy  \\\n",
      "Customer_Age                     False                False            False   \n",
      "Gender                           False                False            False   \n",
      "Dependent_count                  False                False            False   \n",
      "Months_on_book                   False                False            False   \n",
      "Total_Relationship_Count         False                False            False   \n",
      "Months_Inactive_12_mon           False                False            False   \n",
      "Contacts_Count_12_mon            False                False            False   \n",
      "Credit_Limit                      True                False             True   \n",
      "Total_Revolving_Bal              False                 True            False   \n",
      "Avg_Open_To_Buy                   True                False             True   \n",
      "Total_Amt_Chng_Q4_Q1             False                False            False   \n",
      "Total_Trans_Amt                  False                False            False   \n",
      "Total_Trans_Ct                   False                False            False   \n",
      "Total_Ct_Chng_Q4_Q1              False                False            False   \n",
      "Avg_Utilization_Ratio            False                 True            False   \n",
      "College                          False                False            False   \n",
      "Doctorate                        False                False            False   \n",
      "Graduate                         False                False            False   \n",
      "High School                      False                False            False   \n",
      "Post-Graduate                    False                False            False   \n",
      "Uneducated                       False                False            False   \n",
      "Unknown                          False                False            False   \n",
      "Divorced                         False                False            False   \n",
      "Married                          False                False            False   \n",
      "Single                           False                False            False   \n",
      "Unknown                          False                False            False   \n",
      "$120K +                          False                False            False   \n",
      "$40K - $60K                      False                False            False   \n",
      "$60K - $80K                      False                False            False   \n",
      "$80K - $120K                     False                False            False   \n",
      "Less than $40K                   False                False            False   \n",
      "Unknown                          False                False            False   \n",
      "Blue                             False                False            False   \n",
      "Gold                             False                False            False   \n",
      "Platinum                         False                False            False   \n",
      "Silver                           False                False            False   \n",
      "\n",
      "                          ...  $120K +  $40K - $60K  $60K - $80K  \\\n",
      "Customer_Age              ...    False        False        False   \n",
      "Gender                    ...    False        False        False   \n",
      "Dependent_count           ...    False        False        False   \n",
      "Months_on_book            ...    False        False        False   \n",
      "Total_Relationship_Count  ...    False        False        False   \n",
      "Months_Inactive_12_mon    ...    False        False        False   \n",
      "Contacts_Count_12_mon     ...    False        False        False   \n",
      "Credit_Limit              ...    False        False        False   \n",
      "Total_Revolving_Bal       ...    False        False        False   \n",
      "Avg_Open_To_Buy           ...    False        False        False   \n",
      "Total_Amt_Chng_Q4_Q1      ...    False        False        False   \n",
      "Total_Trans_Amt           ...    False        False        False   \n",
      "Total_Trans_Ct            ...    False        False        False   \n",
      "Total_Ct_Chng_Q4_Q1       ...    False        False        False   \n",
      "Avg_Utilization_Ratio     ...    False        False        False   \n",
      "College                   ...    False        False        False   \n",
      "Doctorate                 ...    False        False        False   \n",
      "Graduate                  ...    False        False        False   \n",
      "High School               ...    False        False        False   \n",
      "Post-Graduate             ...    False        False        False   \n",
      "Uneducated                ...    False        False        False   \n",
      "Unknown                   ...    False        False        False   \n",
      "Divorced                  ...    False        False        False   \n",
      "Married                   ...    False        False        False   \n",
      "Single                    ...    False        False        False   \n",
      "Unknown                   ...    False        False        False   \n",
      "$120K +                   ...     True        False        False   \n",
      "$40K - $60K               ...    False         True        False   \n",
      "$60K - $80K               ...    False        False         True   \n",
      "$80K - $120K              ...    False        False        False   \n",
      "Less than $40K            ...    False        False        False   \n",
      "Unknown                   ...    False        False        False   \n",
      "Blue                      ...    False        False        False   \n",
      "Gold                      ...    False        False        False   \n",
      "Platinum                  ...    False        False        False   \n",
      "Silver                    ...    False        False        False   \n",
      "\n",
      "                          $80K - $120K  Less than $40K  Unknown   Blue   Gold  \\\n",
      "Customer_Age                     False           False    False  False  False   \n",
      "Gender                           False            True    False  False  False   \n",
      "Dependent_count                  False           False    False  False  False   \n",
      "Months_on_book                   False           False    False  False  False   \n",
      "Total_Relationship_Count         False           False    False  False  False   \n",
      "Months_Inactive_12_mon           False           False    False  False  False   \n",
      "Contacts_Count_12_mon            False           False    False  False  False   \n",
      "Credit_Limit                     False           False    False  False  False   \n",
      "Total_Revolving_Bal              False           False    False  False  False   \n",
      "Avg_Open_To_Buy                  False           False    False  False  False   \n",
      "Total_Amt_Chng_Q4_Q1             False           False    False  False  False   \n",
      "Total_Trans_Amt                  False           False    False  False  False   \n",
      "Total_Trans_Ct                   False           False    False  False  False   \n",
      "Total_Ct_Chng_Q4_Q1              False           False    False  False  False   \n",
      "Avg_Utilization_Ratio            False           False    False  False  False   \n",
      "College                          False           False    False  False  False   \n",
      "Doctorate                        False           False    False  False  False   \n",
      "Graduate                         False           False    False  False  False   \n",
      "High School                      False           False    False  False  False   \n",
      "Post-Graduate                    False           False    False  False  False   \n",
      "Uneducated                       False           False    False  False  False   \n",
      "Unknown                          False           False    False  False  False   \n",
      "Divorced                         False           False    False  False  False   \n",
      "Married                          False           False    False  False  False   \n",
      "Single                           False           False    False  False  False   \n",
      "Unknown                          False           False    False  False  False   \n",
      "$120K +                          False           False    False  False  False   \n",
      "$40K - $60K                      False           False    False  False  False   \n",
      "$60K - $80K                      False           False    False  False  False   \n",
      "$80K - $120K                      True           False    False  False  False   \n",
      "Less than $40K                   False            True    False  False  False   \n",
      "Unknown                          False           False     True  False  False   \n",
      "Blue                             False           False    False   True  False   \n",
      "Gold                             False           False    False  False   True   \n",
      "Platinum                         False           False    False  False  False   \n",
      "Silver                           False           False    False  False  False   \n",
      "\n",
      "                          Platinum  Silver  \n",
      "Customer_Age                 False   False  \n",
      "Gender                       False   False  \n",
      "Dependent_count              False   False  \n",
      "Months_on_book               False   False  \n",
      "Total_Relationship_Count     False   False  \n",
      "Months_Inactive_12_mon       False   False  \n",
      "Contacts_Count_12_mon        False   False  \n",
      "Credit_Limit                 False   False  \n",
      "Total_Revolving_Bal          False   False  \n",
      "Avg_Open_To_Buy              False   False  \n",
      "Total_Amt_Chng_Q4_Q1         False   False  \n",
      "Total_Trans_Amt              False   False  \n",
      "Total_Trans_Ct               False   False  \n",
      "Total_Ct_Chng_Q4_Q1          False   False  \n",
      "Avg_Utilization_Ratio        False   False  \n",
      "College                      False   False  \n",
      "Doctorate                    False   False  \n",
      "Graduate                     False   False  \n",
      "High School                  False   False  \n",
      "Post-Graduate                False   False  \n",
      "Uneducated                   False   False  \n",
      "Unknown                      False   False  \n",
      "Divorced                     False   False  \n",
      "Married                      False   False  \n",
      "Single                       False   False  \n",
      "Unknown                      False   False  \n",
      "$120K +                      False   False  \n",
      "$40K - $60K                  False   False  \n",
      "$60K - $80K                  False   False  \n",
      "$80K - $120K                 False   False  \n",
      "Less than $40K               False   False  \n",
      "Unknown                      False   False  \n",
      "Blue                         False   False  \n",
      "Gold                         False   False  \n",
      "Platinum                      True   False  \n",
      "Silver                       False    True  \n",
      "\n",
      "[36 rows x 36 columns]\n"
     ]
    }
   ],
   "source": [
    "print(corr_mat > 0.5)"
   ]
  },
  {
   "cell_type": "code",
   "execution_count": 121,
   "id": "9c459008",
   "metadata": {},
   "outputs": [
    {
     "data": {
      "text/plain": [
       "Credit_Limit         Avg_Open_To_Buy          0.996029\n",
       "Total_Trans_Amt      Total_Trans_Ct           0.807787\n",
       "Customer_Age         Months_on_book           0.789204\n",
       "Total_Revolving_Bal  Avg_Utilization_Ratio    0.622711\n",
       "Gender               Less than $40K           0.578902\n",
       "dtype: float64"
      ]
     },
     "execution_count": 121,
     "metadata": {},
     "output_type": "execute_result"
    }
   ],
   "source": [
    "corr_mat.where(np.triu(corr_mat > 0.5, k=1)).stack().sort_values(ascending=False)"
   ]
  },
  {
   "cell_type": "markdown",
   "id": "3c19baf1",
   "metadata": {},
   "source": [
    "<h2>Нормализация количественных признаков</h2>\n",
    "<p>Алгоритм <strong>метода ближайших соседей</strong> чувствителен к масштабированию данных.</p>\n",
    "<p>Поскольку у количественных признаков схожий физический смысл, в нашем случае не нужна нормализация признаков.</p>"
   ]
  },
  {
   "cell_type": "markdown",
   "id": "2bcc8683",
   "metadata": {},
   "source": [
    "<h2>Обучение модели (метод ближайших соседов)</h2>"
   ]
  },
  {
   "cell_type": "markdown",
   "id": "b58817fe",
   "metadata": {},
   "source": [
    "<strong>Реализация функций обучения модели и вывода результатов</strong>"
   ]
  },
  {
   "cell_type": "code",
   "execution_count": 122,
   "id": "dd911c0a",
   "metadata": {},
   "outputs": [],
   "source": [
    "from sklearn.neighbors import KNeighborsClassifier\n",
    "from sklearn.metrics import confusion_matrix\n",
    "\n",
    "def fitKnn(n):\n",
    "    knn = KNeighborsClassifier(n_neighbors = n)\n",
    "    knn.fit(X_train, y_train)\n",
    "    return knn.predict(X_test)\n",
    "\n",
    "def printKnnResult():\n",
    "    count = 0\n",
    "    for value in y_test_predict:\n",
    "        if value == 1:\n",
    "            count = count + 1\n",
    "    print(\"Общее количество клиентов - \", y_test_predict.size)\n",
    "    print(\"Количество уходящих клиентов - \", count)\n",
    "    \n",
    "def printError():\n",
    "    err_test  = np.mean(y_test  != y_test_predict)\n",
    "    print(\"Ошибка -\", err_test)\n",
    "    print(\"Матрица рассогласования:\")\n",
    "    print(confusion_matrix(y_test, y_test_predict))"
   ]
  },
  {
   "cell_type": "markdown",
   "id": "eb04e3b4",
   "metadata": {},
   "source": [
    "<strong>Количество соседей = 2</strong>"
   ]
  },
  {
   "cell_type": "code",
   "execution_count": 123,
   "id": "efd4a78e",
   "metadata": {},
   "outputs": [
    {
     "name": "stdout",
     "output_type": "stream",
     "text": [
      "Общее количество клиентов -  2532\n",
      "Количество уходящих клиентов -  230\n",
      "Ошибка - 0.11571879936808847\n",
      "Матрица рассогласования:\n",
      "[[2068   59]\n",
      " [ 234  171]]\n"
     ]
    }
   ],
   "source": [
    "y_test_predict = fitKnn(2)\n",
    "printKnnResult()\n",
    "printError()"
   ]
  },
  {
   "cell_type": "markdown",
   "id": "01e2375b",
   "metadata": {},
   "source": [
    "<strong>Количество соседей = 9</strong>"
   ]
  },
  {
   "cell_type": "code",
   "execution_count": 124,
   "id": "c9038dbc",
   "metadata": {},
   "outputs": [
    {
     "name": "stdout",
     "output_type": "stream",
     "text": [
      "Общее количество клиентов -  2532\n",
      "Количество уходящих клиентов -  317\n",
      "Ошибка - 0.10979462875197472\n",
      "Матрица рассогласования:\n",
      "[[2032   95]\n",
      " [ 183  222]]\n"
     ]
    }
   ],
   "source": [
    "y_test_predict = fitKnn(9)\n",
    "printKnnResult()\n",
    "printError()"
   ]
  },
  {
   "cell_type": "markdown",
   "id": "145bc867",
   "metadata": {},
   "source": [
    "<strong>Количество соседей = 16</strong>"
   ]
  },
  {
   "cell_type": "code",
   "execution_count": 125,
   "id": "c941cab8",
   "metadata": {},
   "outputs": [
    {
     "name": "stdout",
     "output_type": "stream",
     "text": [
      "Общее количество клиентов -  2532\n",
      "Количество уходящих клиентов -  282\n",
      "Ошибка - 0.1141390205371248\n",
      "Матрица рассогласования:\n",
      "[[2044   83]\n",
      " [ 206  199]]\n"
     ]
    }
   ],
   "source": [
    "y_test_predict = fitKnn(16)\n",
    "printKnnResult()\n",
    "printError()"
   ]
  },
  {
   "cell_type": "markdown",
   "id": "d6dae043",
   "metadata": {},
   "source": [
    "<strong>Количество соседей = 21</strong>"
   ]
  },
  {
   "cell_type": "code",
   "execution_count": 126,
   "id": "fc805f73",
   "metadata": {},
   "outputs": [
    {
     "name": "stdout",
     "output_type": "stream",
     "text": [
      "Общее количество клиентов -  2532\n",
      "Количество уходящих клиентов -  300\n",
      "Ошибка - 0.11255924170616113\n",
      "Матрица рассогласования:\n",
      "[[2037   90]\n",
      " [ 195  210]]\n"
     ]
    }
   ],
   "source": [
    "y_test_predict = fitKnn(21)\n",
    "printKnnResult()\n",
    "printError()"
   ]
  },
  {
   "cell_type": "markdown",
   "id": "3d5433d2",
   "metadata": {},
   "source": [
    "<h4>Вывод на основе матриц рассогласования</h4>\n",
    "<p>Обучение модели проведено 4 раза с разным количеством <strong>соседей</strong>.</p>\n",
    "<p>Наименьшее количество ошибок 1 рода и наибольшее количество ошибок 2 рода содержится в модели с 2 <strong>соседями</strong>.</p>\n",
    "<p>Наибольшее количество ошибок 1 рода и наименьшее количество ошибок 2 рода содержится в модели с 9 <strong>соседями</strong>.</p>"
   ]
  },
  {
   "cell_type": "markdown",
   "id": "b2443b11",
   "metadata": {},
   "source": [
    "<h2>Запуск других классификаторов, сравнение результатов</h2>"
   ]
  },
  {
   "cell_type": "markdown",
   "id": "179f9bac",
   "metadata": {},
   "source": [
    "<h3>Полносвязные (неглубокие) нейронные сети</h3>"
   ]
  },
  {
   "cell_type": "markdown",
   "id": "78dd3d91",
   "metadata": {},
   "source": [
    "<strong>Использование 1 слоя</strong>"
   ]
  },
  {
   "cell_type": "code",
   "execution_count": 127,
   "id": "af457435",
   "metadata": {},
   "outputs": [],
   "source": [
    "from sklearn.neural_network import MLPClassifier\n",
    "\n",
    "test_err = []\n",
    "train_err = []\n",
    "hidden_layer = np.arange(1, 30)\n",
    "\n",
    "for neu in hidden_layer:\n",
    "    mlp_model = MLPClassifier(hidden_layer_sizes = (neu, ), random_state = 42, max_iter = 10000)\n",
    "    mlp_model.fit(X_train, y_train)\n",
    "    \n",
    "    y_train_predict = mlp_model.predict(X_train)\n",
    "    y_test_predict = mlp_model.predict(X_test)\n",
    "    \n",
    "    train_err.append(np.mean(y_train != y_train_predict))\n",
    "    test_err.append(np.mean(y_test != y_test_predict))"
   ]
  },
  {
   "cell_type": "code",
   "execution_count": 128,
   "id": "38b01e24",
   "metadata": {},
   "outputs": [
    {
     "data": {
      "image/png": "[encoded data removed]",
      "text/plain": [
       "<Figure size 432x288 with 1 Axes>"
      ]
     },
     "metadata": {
      "needs_background": "light"
     },
     "output_type": "display_data"
    }
   ],
   "source": [
    "plt.plot(hidden_layer, train_err, 'r-o', label = 'train')\n",
    "plt.plot(hidden_layer, test_err, 'b-o', label = 'test')\n",
    "plt.title('Error vs count of neurons')\n",
    "plt.xlabel('Count of neurons')\n",
    "plt.ylabel('Error')\n",
    "plt.legend()\n",
    "pass"
   ]
  },
  {
   "cell_type": "code",
   "execution_count": 129,
   "id": "f06708a3",
   "metadata": {},
   "outputs": [
    {
     "name": "stdout",
     "output_type": "stream",
     "text": [
      "0.11533903884134299 0.11492890995260663\n"
     ]
    }
   ],
   "source": [
    "min_train_err = np.min(train_err)\n",
    "min_test_err = np.min(test_err)\n",
    "print(min_train_err, min_test_err)"
   ]
  },
  {
   "cell_type": "code",
   "execution_count": 131,
   "id": "0d98c74b",
   "metadata": {},
   "outputs": [
    {
     "name": "stdout",
     "output_type": "stream",
     "text": [
      "[10]\n"
     ]
    }
   ],
   "source": [
    "neu_opt = hidden_layer[test_err == min_test_err]\n",
    "print(neu_opt)"
   ]
  },
  {
   "cell_type": "markdown",
   "id": "0f3c341b",
   "metadata": {},
   "source": [
    "Наименьшая ошибка на тестовой выборке достигается при 10 нейронах."
   ]
  },
  {
   "cell_type": "markdown",
   "id": "d83d0db9",
   "metadata": {},
   "source": [
    "<strong>Добавление 2 слоя и нахождение оптимального количества нейронов</strong>"
   ]
  },
  {
   "cell_type": "code",
   "execution_count": 132,
   "id": "451f46c4",
   "metadata": {},
   "outputs": [],
   "source": [
    "test_err = []\n",
    "train_err = []\n",
    "hidden_layer = np.arange(1, 30)\n",
    "\n",
    "for neu in hidden_layer:\n",
    "    mlp_model = MLPClassifier(hidden_layer_sizes = (10, neu), random_state = 42, max_iter = 10000)\n",
    "    mlp_model.fit(X_train, y_train)\n",
    "\n",
    "    y_train_predict = mlp_model.predict(X_train)\n",
    "    y_test_predict = mlp_model.predict(X_test)\n",
    "    \n",
    "    train_err.append(np.mean(y_train != y_train_predict))\n",
    "    test_err.append(np.mean(y_test != y_test_predict))"
   ]
  },
  {
   "cell_type": "code",
   "execution_count": 133,
   "id": "ff940b65",
   "metadata": {},
   "outputs": [
    {
     "data": {
      "image/png": "[encoded data removed]",
      "text/plain": [
       "<Figure size 432x288 with 1 Axes>"
      ]
     },
     "metadata": {
      "needs_background": "light"
     },
     "output_type": "display_data"
    }
   ],
   "source": [
    "plt.plot(hidden_layer, train_err, 'r-o', label = 'train')\n",
    "plt.plot(hidden_layer, test_err, 'b-o', label = 'test')\n",
    "plt.title('Error vs count of neu')\n",
    "plt.xlabel('count of neu')\n",
    "plt.ylabel('error')\n",
    "plt.legend()\n",
    "pass"
   ]
  },
  {
   "cell_type": "code",
   "execution_count": 134,
   "id": "ca3ec7f8",
   "metadata": {},
   "outputs": [
    {
     "name": "stdout",
     "output_type": "stream",
     "text": [
      "0.12337063857801185 0.12559241706161137\n"
     ]
    }
   ],
   "source": [
    "min_train_err = np.min(train_err)\n",
    "min_test_err = np.min(test_err)\n",
    "print(min_train_err, min_test_err)"
   ]
  },
  {
   "cell_type": "code",
   "execution_count": 135,
   "id": "d420ed7c",
   "metadata": {},
   "outputs": [
    {
     "name": "stdout",
     "output_type": "stream",
     "text": [
      "[14]\n"
     ]
    }
   ],
   "source": [
    "neu_opt = hidden_layer[test_err == min_test_err]\n",
    "print(neu_opt)"
   ]
  },
  {
   "cell_type": "markdown",
   "id": "53891111",
   "metadata": {},
   "source": [
    "Наименьшая ошибка на тестовой выборке достигается при 14 нейронах.\n",
    "\n",
    "<strong>Нахождение оптимального значения параметра alpha</strong>"
   ]
  },
  {
   "cell_type": "code",
   "execution_count": 136,
   "id": "793863d2",
   "metadata": {},
   "outputs": [],
   "source": [
    "from sklearn.metrics import accuracy_score\n",
    "\n",
    "alpha_arr = np.arange(0.0001, 0.01, 0.001)\n",
    "test_err = []\n",
    "train_err = []\n",
    "train_acc = []\n",
    "test_acc = []\n",
    "\n",
    "for alpha in alpha_arr:\n",
    "    mlp_model = MLPClassifier(alpha = alpha, hidden_layer_sizes = (14, 1), \n",
    "                              solver = 'lbfgs', activation = 'logistic', max_iter=10000, random_state = 42)\n",
    "    mlp_model.fit(X_train, y_train)\n",
    "\n",
    "    y_train_predict = mlp_model.predict(X_train)\n",
    "    y_test_predict = mlp_model.predict(X_test)\n",
    "    \n",
    "    train_err.append(np.mean(y_train != y_train_predict))\n",
    "    test_err.append(np.mean(y_test != y_test_predict))\n",
    "    train_acc.append(accuracy_score(y_train, y_train_predict))\n",
    "    test_acc.append(accuracy_score(y_test, y_test_predict))"
   ]
  },
  {
   "cell_type": "code",
   "execution_count": 137,
   "id": "fc06c8fd",
   "metadata": {},
   "outputs": [
    {
     "data": {
      "image/png": "[encoded data removed]",
      "text/plain": [
       "<Figure size 432x288 with 1 Axes>"
      ]
     },
     "metadata": {
      "needs_background": "light"
     },
     "output_type": "display_data"
    }
   ],
   "source": [
    "plt.semilogx(alpha_arr, train_err, 'b-o', label = 'train')\n",
    "plt.semilogx(alpha_arr, test_err, 'r-o', label = 'test')\n",
    "plt.xlim([np.min(alpha_arr), np.max(alpha_arr)])\n",
    "plt.title('Error vs alpha')\n",
    "plt.xlabel('Alpha')\n",
    "plt.ylabel('Error')\n",
    "plt.legend()\n",
    "pass"
   ]
  },
  {
   "cell_type": "code",
   "execution_count": 138,
   "id": "127a77ae",
   "metadata": {},
   "outputs": [
    {
     "name": "stdout",
     "output_type": "stream",
     "text": [
      "0.11375905200789993 0.10624012638230648\n"
     ]
    }
   ],
   "source": [
    "min_train_err = np.min(train_err)\n",
    "min_test_err = np.min(test_err)\n",
    "print(min_train_err, min_test_err)"
   ]
  },
  {
   "cell_type": "code",
   "execution_count": 139,
   "id": "c9101913",
   "metadata": {},
   "outputs": [
    {
     "name": "stdout",
     "output_type": "stream",
     "text": [
      "[0.0011]\n"
     ]
    }
   ],
   "source": [
    "alpha_opt = alpha_arr[test_err == min_test_err]\n",
    "print(alpha_opt)"
   ]
  },
  {
   "cell_type": "code",
   "execution_count": 140,
   "id": "f40f6a8b",
   "metadata": {},
   "outputs": [
    {
     "name": "stdout",
     "output_type": "stream",
     "text": [
      "Оптимальное значение параметра alpha - 0.0011\n",
      "Ошибка - 0.10624012638230648\n"
     ]
    }
   ],
   "source": [
    "print(\"Оптимальное значение параметра alpha - 0.0011\")\n",
    "print(\"Ошибка - 0.10624012638230648\")"
   ]
  },
  {
   "cell_type": "markdown",
   "id": "a6d7348a",
   "metadata": {},
   "source": [
    "<h3>Вывод по применению полносвязных нейронных сетей</h3>"
   ]
  },
  {
   "cell_type": "markdown",
   "id": "6194bea4",
   "metadata": {},
   "source": [
    "В данном разделе были изучены и применены для обучения модели полносвязные (неглубокие) нейронные сети. На основе результатов применения обучения можно сделать вывод, что полносвязные нейронные сети показывают очень хорошие результаты. При более глубоком их изучении можно добиться еще более лучших результатов."
   ]
  },
  {
   "cell_type": "markdown",
   "id": "93ef3332",
   "metadata": {},
   "source": [
    "<h3>Машина опорных векторов (SVC)</h3>"
   ]
  },
  {
   "cell_type": "code",
   "execution_count": 141,
   "id": "4e0236de",
   "metadata": {},
   "outputs": [
    {
     "data": {
      "text/plain": [
       "SVC(gamma='auto')"
      ]
     },
     "execution_count": 141,
     "metadata": {},
     "output_type": "execute_result"
    }
   ],
   "source": [
    "from sklearn.svm import SVC\n",
    "\n",
    "svc = SVC(gamma='auto')\n",
    "svc.fit(X_train, y_train)"
   ]
  },
  {
   "cell_type": "code",
   "execution_count": 142,
   "id": "53b0bd06",
   "metadata": {},
   "outputs": [
    {
     "name": "stdout",
     "output_type": "stream",
     "text": [
      "0.00013166556945358788 0.15995260663507108\n"
     ]
    }
   ],
   "source": [
    "err_train = np.mean(y_train != svc.predict(X_train))\n",
    "err_test  = np.mean(y_test  != svc.predict(X_test))\n",
    "\n",
    "print(err_train, err_test)"
   ]
  },
  {
   "cell_type": "markdown",
   "id": "8c1a6511",
   "metadata": {},
   "source": [
    "<h3>Случайный лес (Random Forest)</h3>"
   ]
  },
  {
   "cell_type": "code",
   "execution_count": 143,
   "id": "7110498a",
   "metadata": {},
   "outputs": [],
   "source": [
    "from sklearn.ensemble import RandomForestClassifier\n",
    "\n",
    "test_err = []\n",
    "train_err = []\n",
    "depth = np.arange(1, 30)\n",
    "\n",
    "for dep in depth:\n",
    "    rand_forest_model = RandomForestClassifier(max_depth = dep)\n",
    "    rand_forest_model.fit(X_train, y_train)\n",
    "\n",
    "    y_train_predict = rand_forest_model.predict(X_train)\n",
    "    y_test_predict = rand_forest_model.predict(X_test)\n",
    "    \n",
    "    train_err.append(np.mean(y_train != y_train_predict))\n",
    "    test_err.append(np.mean(y_test != y_test_predict))"
   ]
  },
  {
   "cell_type": "code",
   "execution_count": 144,
   "id": "e2db6c56",
   "metadata": {},
   "outputs": [
    {
     "data": {
      "image/png": "[encoded data removed]",
      "text/plain": [
       "<Figure size 432x288 with 1 Axes>"
      ]
     },
     "metadata": {
      "needs_background": "light"
     },
     "output_type": "display_data"
    }
   ],
   "source": [
    "plt.plot(hidden_layer, train_err, 'r-o', label = 'train')\n",
    "plt.plot(hidden_layer, test_err, 'b-o', label = 'test')\n",
    "plt.title('Error vs depth')\n",
    "plt.xlabel('depth')\n",
    "plt.ylabel('error')\n",
    "plt.legend()\n",
    "\n",
    "pass"
   ]
  },
  {
   "cell_type": "code",
   "execution_count": 145,
   "id": "f4b8d8c1",
   "metadata": {},
   "outputs": [
    {
     "name": "stdout",
     "output_type": "stream",
     "text": [
      "0.0 0.03949447077409163\n"
     ]
    }
   ],
   "source": [
    "min_train_err = np.min(train_err)\n",
    "min_test_err = np.min(test_err)\n",
    "\n",
    "print(min_train_err, min_test_err)"
   ]
  },
  {
   "cell_type": "code",
   "execution_count": 146,
   "id": "027ce12f",
   "metadata": {},
   "outputs": [
    {
     "name": "stdout",
     "output_type": "stream",
     "text": [
      "[23]\n"
     ]
    }
   ],
   "source": [
    "neu_opt = hidden_layer[test_err == min_test_err]\n",
    "\n",
    "print(neu_opt)"
   ]
  },
  {
   "cell_type": "markdown",
   "id": "64b02c10",
   "metadata": {},
   "source": [
    "Наименьшее значение ошибки - 0.039, при максимальной глубине дерева, равной значению 23."
   ]
  },
  {
   "cell_type": "code",
   "execution_count": 147,
   "id": "7fcda572",
   "metadata": {},
   "outputs": [],
   "source": [
    "from sklearn.tree import DecisionTreeClassifier\n",
    "\n",
    "test_err = []\n",
    "train_err = []\n",
    "depth = np.arange(1, 30)\n",
    "\n",
    "for dep in depth:\n",
    "    tree_model = DecisionTreeClassifier(max_depth = dep)\n",
    "    tree_model.fit(X_train, y_train)\n",
    "\n",
    "    y_train_predict = tree_model.predict(X_train)\n",
    "    y_test_predict = tree_model.predict(X_test)\n",
    "    \n",
    "    train_err.append(np.mean(y_train != y_train_predict))\n",
    "    test_err.append(np.mean(y_test != y_test_predict))"
   ]
  },
  {
   "cell_type": "code",
   "execution_count": 148,
   "id": "99dae366",
   "metadata": {},
   "outputs": [
    {
     "data": {
      "image/png": "[encoded data removed]",
      "text/plain": [
       "<Figure size 432x288 with 1 Axes>"
      ]
     },
     "metadata": {
      "needs_background": "light"
     },
     "output_type": "display_data"
    }
   ],
   "source": [
    "plt.plot(hidden_layer, train_err, 'r-o', label = 'train')\n",
    "plt.plot(hidden_layer, test_err, 'b-o', label = 'test')\n",
    "plt.title('Error vs depth')\n",
    "plt.xlabel('depth')\n",
    "plt.ylabel('error')\n",
    "plt.legend()\n",
    "\n",
    "pass"
   ]
  },
  {
   "cell_type": "code",
   "execution_count": 149,
   "id": "4e72ecd6",
   "metadata": {},
   "outputs": [
    {
     "name": "stdout",
     "output_type": "stream",
     "text": [
      "0.0 0.05252764612954187\n"
     ]
    }
   ],
   "source": [
    "min_train_err = np.min(train_err)\n",
    "min_test_err = np.min(test_err)\n",
    "\n",
    "print(min_train_err, min_test_err)"
   ]
  },
  {
   "cell_type": "code",
   "execution_count": 150,
   "id": "aab95148",
   "metadata": {},
   "outputs": [
    {
     "name": "stdout",
     "output_type": "stream",
     "text": [
      "[9]\n"
     ]
    }
   ],
   "source": [
    "dep_opt = depth[test_err == min_test_err]\n",
    "\n",
    "print(dep_opt)"
   ]
  },
  {
   "cell_type": "markdown",
   "id": "6e45d8e9",
   "metadata": {},
   "source": [
    "Наименьшее значение ошибки - 0.05, при максимальной глубине дерева,равной значению 9."
   ]
  },
  {
   "cell_type": "markdown",
   "id": "e3f824ea",
   "metadata": {},
   "source": [
    "<h3>Выводы по запуску различных классификаторов</h3>"
   ]
  },
  {
   "cell_type": "markdown",
   "id": "0eaffb6d",
   "metadata": {},
   "source": [
    "Были изучены и применены различные классификаторы для обучения модели.\n",
    "<ol>\n",
    "    <li>Метод ближайших соседей</li>\n",
    "    <li>Полносвязные нейронные сети</li>\n",
    "    <li>Машина опорных векторов</li>\n",
    "    <li>Случайный лес</li>\n",
    "    <li>Деревья решений</li>\n",
    "</ol>\n",
    "Наилучший результат показал классификатор <strong>Случайный лес</strong>. У него наименьшая ошибка - 0.039. \n",
    "Хочется отдельно отметить, что при применении метода ближайших соседей проводился подбор оптимального количества соседей."
   ]
  },
  {
   "cell_type": "markdown",
   "id": "c8a4fc99",
   "metadata": {},
   "source": [
    "<h2>Борьба с несбалансированностью классов</h2>"
   ]
  },
  {
   "cell_type": "code",
   "execution_count": 151,
   "id": "e9af9f50",
   "metadata": {},
   "outputs": [
    {
     "data": {
      "text/plain": [
       "Existing Customer    8500\n",
       "Attrited Customer    1627\n",
       "Name: Attrition_Flag, dtype: int64"
      ]
     },
     "execution_count": 151,
     "metadata": {},
     "output_type": "execute_result"
    }
   ],
   "source": [
    "data['Attrition_Flag'].value_counts()"
   ]
  },
  {
   "cell_type": "markdown",
   "id": "9bc48d3b",
   "metadata": {},
   "source": [
    "Для баланса необходимо удалить из таблицы 6873 строки со значением Existing Customer."
   ]
  },
  {
   "cell_type": "code",
   "execution_count": 152,
   "id": "a0fdce61",
   "metadata": {},
   "outputs": [
    {
     "data": {
      "text/html": [
       "<div>\n",
       "<style scoped>\n",
       "    .dataframe tbody tr th:only-of-type {\n",
       "        vertical-align: middle;\n",
       "    }\n",
       "\n",
       "    .dataframe tbody tr th {\n",
       "        vertical-align: top;\n",
       "    }\n",
       "\n",
       "    .dataframe thead th {\n",
       "        text-align: right;\n",
       "    }\n",
       "</style>\n",
       "<table border=\"1\" class=\"dataframe\">\n",
       "  <thead>\n",
       "    <tr style=\"text-align: right;\">\n",
       "      <th></th>\n",
       "      <th>CLIENTNUM</th>\n",
       "      <th>Attrition_Flag</th>\n",
       "      <th>Customer_Age</th>\n",
       "      <th>Gender</th>\n",
       "      <th>Dependent_count</th>\n",
       "      <th>Education_Level</th>\n",
       "      <th>Marital_Status</th>\n",
       "      <th>Income_Category</th>\n",
       "      <th>Card_Category</th>\n",
       "      <th>Months_on_book</th>\n",
       "      <th>...</th>\n",
       "      <th>Months_Inactive_12_mon</th>\n",
       "      <th>Contacts_Count_12_mon</th>\n",
       "      <th>Credit_Limit</th>\n",
       "      <th>Total_Revolving_Bal</th>\n",
       "      <th>Avg_Open_To_Buy</th>\n",
       "      <th>Total_Amt_Chng_Q4_Q1</th>\n",
       "      <th>Total_Trans_Amt</th>\n",
       "      <th>Total_Trans_Ct</th>\n",
       "      <th>Total_Ct_Chng_Q4_Q1</th>\n",
       "      <th>Avg_Utilization_Ratio</th>\n",
       "    </tr>\n",
       "  </thead>\n",
       "  <tbody>\n",
       "    <tr>\n",
       "      <th>2</th>\n",
       "      <td>713982108</td>\n",
       "      <td>Existing Customer</td>\n",
       "      <td>51</td>\n",
       "      <td>M</td>\n",
       "      <td>3</td>\n",
       "      <td>Graduate</td>\n",
       "      <td>Married</td>\n",
       "      <td>$80K - $120K</td>\n",
       "      <td>Blue</td>\n",
       "      <td>36</td>\n",
       "      <td>...</td>\n",
       "      <td>1</td>\n",
       "      <td>0</td>\n",
       "      <td>3418.0</td>\n",
       "      <td>0</td>\n",
       "      <td>3418.0</td>\n",
       "      <td>2.594</td>\n",
       "      <td>1887</td>\n",
       "      <td>20</td>\n",
       "      <td>2.333</td>\n",
       "      <td>0.000</td>\n",
       "    </tr>\n",
       "    <tr>\n",
       "      <th>12</th>\n",
       "      <td>710599683</td>\n",
       "      <td>Existing Customer</td>\n",
       "      <td>56</td>\n",
       "      <td>M</td>\n",
       "      <td>1</td>\n",
       "      <td>College</td>\n",
       "      <td>Single</td>\n",
       "      <td>$80K - $120K</td>\n",
       "      <td>Blue</td>\n",
       "      <td>36</td>\n",
       "      <td>...</td>\n",
       "      <td>6</td>\n",
       "      <td>0</td>\n",
       "      <td>11751.0</td>\n",
       "      <td>0</td>\n",
       "      <td>11751.0</td>\n",
       "      <td>3.397</td>\n",
       "      <td>1539</td>\n",
       "      <td>17</td>\n",
       "      <td>3.250</td>\n",
       "      <td>0.000</td>\n",
       "    </tr>\n",
       "    <tr>\n",
       "      <th>15</th>\n",
       "      <td>714885258</td>\n",
       "      <td>Existing Customer</td>\n",
       "      <td>44</td>\n",
       "      <td>M</td>\n",
       "      <td>4</td>\n",
       "      <td>Unknown</td>\n",
       "      <td>Unknown</td>\n",
       "      <td>$80K - $120K</td>\n",
       "      <td>Blue</td>\n",
       "      <td>37</td>\n",
       "      <td>...</td>\n",
       "      <td>1</td>\n",
       "      <td>2</td>\n",
       "      <td>4234.0</td>\n",
       "      <td>972</td>\n",
       "      <td>3262.0</td>\n",
       "      <td>1.707</td>\n",
       "      <td>1348</td>\n",
       "      <td>27</td>\n",
       "      <td>1.700</td>\n",
       "      <td>0.230</td>\n",
       "    </tr>\n",
       "    <tr>\n",
       "      <th>20</th>\n",
       "      <td>806165208</td>\n",
       "      <td>Existing Customer</td>\n",
       "      <td>47</td>\n",
       "      <td>M</td>\n",
       "      <td>1</td>\n",
       "      <td>Doctorate</td>\n",
       "      <td>Divorced</td>\n",
       "      <td>$60K - $80K</td>\n",
       "      <td>Blue</td>\n",
       "      <td>42</td>\n",
       "      <td>...</td>\n",
       "      <td>2</td>\n",
       "      <td>0</td>\n",
       "      <td>20979.0</td>\n",
       "      <td>1800</td>\n",
       "      <td>19179.0</td>\n",
       "      <td>0.906</td>\n",
       "      <td>1178</td>\n",
       "      <td>27</td>\n",
       "      <td>0.929</td>\n",
       "      <td>0.086</td>\n",
       "    </tr>\n",
       "    <tr>\n",
       "      <th>21</th>\n",
       "      <td>708508758</td>\n",
       "      <td>Attrited Customer</td>\n",
       "      <td>62</td>\n",
       "      <td>F</td>\n",
       "      <td>0</td>\n",
       "      <td>Graduate</td>\n",
       "      <td>Married</td>\n",
       "      <td>Less than $40K</td>\n",
       "      <td>Blue</td>\n",
       "      <td>49</td>\n",
       "      <td>...</td>\n",
       "      <td>3</td>\n",
       "      <td>3</td>\n",
       "      <td>1438.3</td>\n",
       "      <td>0</td>\n",
       "      <td>1438.3</td>\n",
       "      <td>1.047</td>\n",
       "      <td>692</td>\n",
       "      <td>16</td>\n",
       "      <td>0.600</td>\n",
       "      <td>0.000</td>\n",
       "    </tr>\n",
       "    <tr>\n",
       "      <th>...</th>\n",
       "      <td>...</td>\n",
       "      <td>...</td>\n",
       "      <td>...</td>\n",
       "      <td>...</td>\n",
       "      <td>...</td>\n",
       "      <td>...</td>\n",
       "      <td>...</td>\n",
       "      <td>...</td>\n",
       "      <td>...</td>\n",
       "      <td>...</td>\n",
       "      <td>...</td>\n",
       "      <td>...</td>\n",
       "      <td>...</td>\n",
       "      <td>...</td>\n",
       "      <td>...</td>\n",
       "      <td>...</td>\n",
       "      <td>...</td>\n",
       "      <td>...</td>\n",
       "      <td>...</td>\n",
       "      <td>...</td>\n",
       "      <td>...</td>\n",
       "    </tr>\n",
       "    <tr>\n",
       "      <th>10119</th>\n",
       "      <td>716893683</td>\n",
       "      <td>Attrited Customer</td>\n",
       "      <td>55</td>\n",
       "      <td>F</td>\n",
       "      <td>3</td>\n",
       "      <td>Uneducated</td>\n",
       "      <td>Single</td>\n",
       "      <td>Unknown</td>\n",
       "      <td>Blue</td>\n",
       "      <td>47</td>\n",
       "      <td>...</td>\n",
       "      <td>3</td>\n",
       "      <td>3</td>\n",
       "      <td>14657.0</td>\n",
       "      <td>2517</td>\n",
       "      <td>12140.0</td>\n",
       "      <td>0.166</td>\n",
       "      <td>6009</td>\n",
       "      <td>53</td>\n",
       "      <td>0.514</td>\n",
       "      <td>0.172</td>\n",
       "    </tr>\n",
       "    <tr>\n",
       "      <th>10123</th>\n",
       "      <td>710638233</td>\n",
       "      <td>Attrited Customer</td>\n",
       "      <td>41</td>\n",
       "      <td>M</td>\n",
       "      <td>2</td>\n",
       "      <td>Unknown</td>\n",
       "      <td>Divorced</td>\n",
       "      <td>$40K - $60K</td>\n",
       "      <td>Blue</td>\n",
       "      <td>25</td>\n",
       "      <td>...</td>\n",
       "      <td>2</td>\n",
       "      <td>3</td>\n",
       "      <td>4277.0</td>\n",
       "      <td>2186</td>\n",
       "      <td>2091.0</td>\n",
       "      <td>0.804</td>\n",
       "      <td>8764</td>\n",
       "      <td>69</td>\n",
       "      <td>0.683</td>\n",
       "      <td>0.511</td>\n",
       "    </tr>\n",
       "    <tr>\n",
       "      <th>10124</th>\n",
       "      <td>716506083</td>\n",
       "      <td>Attrited Customer</td>\n",
       "      <td>44</td>\n",
       "      <td>F</td>\n",
       "      <td>1</td>\n",
       "      <td>High School</td>\n",
       "      <td>Married</td>\n",
       "      <td>Less than $40K</td>\n",
       "      <td>Blue</td>\n",
       "      <td>36</td>\n",
       "      <td>...</td>\n",
       "      <td>3</td>\n",
       "      <td>4</td>\n",
       "      <td>5409.0</td>\n",
       "      <td>0</td>\n",
       "      <td>5409.0</td>\n",
       "      <td>0.819</td>\n",
       "      <td>10291</td>\n",
       "      <td>60</td>\n",
       "      <td>0.818</td>\n",
       "      <td>0.000</td>\n",
       "    </tr>\n",
       "    <tr>\n",
       "      <th>10125</th>\n",
       "      <td>717406983</td>\n",
       "      <td>Attrited Customer</td>\n",
       "      <td>30</td>\n",
       "      <td>M</td>\n",
       "      <td>2</td>\n",
       "      <td>Graduate</td>\n",
       "      <td>Unknown</td>\n",
       "      <td>$40K - $60K</td>\n",
       "      <td>Blue</td>\n",
       "      <td>36</td>\n",
       "      <td>...</td>\n",
       "      <td>3</td>\n",
       "      <td>3</td>\n",
       "      <td>5281.0</td>\n",
       "      <td>0</td>\n",
       "      <td>5281.0</td>\n",
       "      <td>0.535</td>\n",
       "      <td>8395</td>\n",
       "      <td>62</td>\n",
       "      <td>0.722</td>\n",
       "      <td>0.000</td>\n",
       "    </tr>\n",
       "    <tr>\n",
       "      <th>10126</th>\n",
       "      <td>714337233</td>\n",
       "      <td>Attrited Customer</td>\n",
       "      <td>43</td>\n",
       "      <td>F</td>\n",
       "      <td>2</td>\n",
       "      <td>Graduate</td>\n",
       "      <td>Married</td>\n",
       "      <td>Less than $40K</td>\n",
       "      <td>Silver</td>\n",
       "      <td>25</td>\n",
       "      <td>...</td>\n",
       "      <td>2</td>\n",
       "      <td>4</td>\n",
       "      <td>10388.0</td>\n",
       "      <td>1961</td>\n",
       "      <td>8427.0</td>\n",
       "      <td>0.703</td>\n",
       "      <td>10294</td>\n",
       "      <td>61</td>\n",
       "      <td>0.649</td>\n",
       "      <td>0.189</td>\n",
       "    </tr>\n",
       "  </tbody>\n",
       "</table>\n",
       "<p>3254 rows × 21 columns</p>\n",
       "</div>"
      ],
      "text/plain": [
       "       CLIENTNUM     Attrition_Flag  Customer_Age Gender  Dependent_count  \\\n",
       "2      713982108  Existing Customer            51      M                3   \n",
       "12     710599683  Existing Customer            56      M                1   \n",
       "15     714885258  Existing Customer            44      M                4   \n",
       "20     806165208  Existing Customer            47      M                1   \n",
       "21     708508758  Attrited Customer            62      F                0   \n",
       "...          ...                ...           ...    ...              ...   \n",
       "10119  716893683  Attrited Customer            55      F                3   \n",
       "10123  710638233  Attrited Customer            41      M                2   \n",
       "10124  716506083  Attrited Customer            44      F                1   \n",
       "10125  717406983  Attrited Customer            30      M                2   \n",
       "10126  714337233  Attrited Customer            43      F                2   \n",
       "\n",
       "      Education_Level Marital_Status Income_Category Card_Category  \\\n",
       "2            Graduate        Married    $80K - $120K          Blue   \n",
       "12            College         Single    $80K - $120K          Blue   \n",
       "15            Unknown        Unknown    $80K - $120K          Blue   \n",
       "20          Doctorate       Divorced     $60K - $80K          Blue   \n",
       "21           Graduate        Married  Less than $40K          Blue   \n",
       "...               ...            ...             ...           ...   \n",
       "10119      Uneducated         Single         Unknown          Blue   \n",
       "10123         Unknown       Divorced     $40K - $60K          Blue   \n",
       "10124     High School        Married  Less than $40K          Blue   \n",
       "10125        Graduate        Unknown     $40K - $60K          Blue   \n",
       "10126        Graduate        Married  Less than $40K        Silver   \n",
       "\n",
       "       Months_on_book  ...  Months_Inactive_12_mon  Contacts_Count_12_mon  \\\n",
       "2                  36  ...                       1                      0   \n",
       "12                 36  ...                       6                      0   \n",
       "15                 37  ...                       1                      2   \n",
       "20                 42  ...                       2                      0   \n",
       "21                 49  ...                       3                      3   \n",
       "...               ...  ...                     ...                    ...   \n",
       "10119              47  ...                       3                      3   \n",
       "10123              25  ...                       2                      3   \n",
       "10124              36  ...                       3                      4   \n",
       "10125              36  ...                       3                      3   \n",
       "10126              25  ...                       2                      4   \n",
       "\n",
       "       Credit_Limit  Total_Revolving_Bal  Avg_Open_To_Buy  \\\n",
       "2            3418.0                    0           3418.0   \n",
       "12          11751.0                    0          11751.0   \n",
       "15           4234.0                  972           3262.0   \n",
       "20          20979.0                 1800          19179.0   \n",
       "21           1438.3                    0           1438.3   \n",
       "...             ...                  ...              ...   \n",
       "10119       14657.0                 2517          12140.0   \n",
       "10123        4277.0                 2186           2091.0   \n",
       "10124        5409.0                    0           5409.0   \n",
       "10125        5281.0                    0           5281.0   \n",
       "10126       10388.0                 1961           8427.0   \n",
       "\n",
       "       Total_Amt_Chng_Q4_Q1  Total_Trans_Amt  Total_Trans_Ct  \\\n",
       "2                     2.594             1887              20   \n",
       "12                    3.397             1539              17   \n",
       "15                    1.707             1348              27   \n",
       "20                    0.906             1178              27   \n",
       "21                    1.047              692              16   \n",
       "...                     ...              ...             ...   \n",
       "10119                 0.166             6009              53   \n",
       "10123                 0.804             8764              69   \n",
       "10124                 0.819            10291              60   \n",
       "10125                 0.535             8395              62   \n",
       "10126                 0.703            10294              61   \n",
       "\n",
       "       Total_Ct_Chng_Q4_Q1  Avg_Utilization_Ratio  \n",
       "2                    2.333                  0.000  \n",
       "12                   3.250                  0.000  \n",
       "15                   1.700                  0.230  \n",
       "20                   0.929                  0.086  \n",
       "21                   0.600                  0.000  \n",
       "...                    ...                    ...  \n",
       "10119                0.514                  0.172  \n",
       "10123                0.683                  0.511  \n",
       "10124                0.818                  0.000  \n",
       "10125                0.722                  0.000  \n",
       "10126                0.649                  0.189  \n",
       "\n",
       "[3254 rows x 21 columns]"
      ]
     },
     "execution_count": 152,
     "metadata": {},
     "output_type": "execute_result"
    }
   ],
   "source": [
    "data_balance = data\n",
    "\n",
    "n = 6873\n",
    "\n",
    "data_balance = data_balance.drop(data_balance.loc[data_balance['Attrition_Flag'] == 'Existing Customer'].sample(n=n).index)\n",
    "data_balance"
   ]
  },
  {
   "cell_type": "code",
   "execution_count": 153,
   "id": "97328162",
   "metadata": {},
   "outputs": [
    {
     "data": {
      "text/plain": [
       "Existing Customer    1627\n",
       "Attrited Customer    1627\n",
       "Name: Attrition_Flag, dtype: int64"
      ]
     },
     "execution_count": 153,
     "metadata": {},
     "output_type": "execute_result"
    }
   ],
   "source": [
    "data_balance['Attrition_Flag'].value_counts()"
   ]
  },
  {
   "cell_type": "markdown",
   "id": "b75aaea3",
   "metadata": {},
   "source": [
    "Классы являются сбалансированными."
   ]
  },
  {
   "cell_type": "markdown",
   "id": "1c158ae7",
   "metadata": {},
   "source": [
    "<h2>Исключение коррелированных переменных</h2>"
   ]
  },
  {
   "cell_type": "markdown",
   "id": "d77961d4",
   "metadata": {},
   "source": [
    "Попробуем убрать следущие переменные из таблицы и посмотрим на результаты ниже:"
   ]
  },
  {
   "cell_type": "code",
   "execution_count": 154,
   "id": "fc38285b",
   "metadata": {},
   "outputs": [
    {
     "name": "stdout",
     "output_type": "stream",
     "text": [
      "7595 2532\n"
     ]
    }
   ],
   "source": [
    "X = data_noncategorial.drop([\"CLIENTNUM\", \"Gender\", \"Credit_Limit\", \"Education_Level\", \"Marital_Status\", \"Income_Category\", \"Card_Category\", \"Attrition_Flag\"], axis=1)\n",
    "y = data_noncategorial[\"Attrition_Flag\"]\n",
    "\n",
    "from sklearn.model_selection import train_test_split\n",
    "X_train, X_test, y_train, y_test = train_test_split(X, y, test_size = 0.25, random_state = 1)\n",
    "\n",
    "N_train, _ = X_train.shape \n",
    "N_test,  _ = X_test.shape\n",
    "\n",
    "print(N_train, N_test)"
   ]
  },
  {
   "cell_type": "code",
   "execution_count": 155,
   "id": "9394085c",
   "metadata": {},
   "outputs": [
    {
     "name": "stdout",
     "output_type": "stream",
     "text": [
      "Общее количество клиентов -  2532\n",
      "Количество уходящих клиентов -  300\n",
      "Ошибка - 0.10781990521327015\n",
      "Матрица рассогласования:\n",
      "[[2043   84]\n",
      " [ 189  216]]\n"
     ]
    }
   ],
   "source": [
    "y_test_predict = fitKnn(21)\n",
    "printKnnResult()\n",
    "printError()"
   ]
  },
  {
   "cell_type": "markdown",
   "id": "d410b39a",
   "metadata": {},
   "source": [
    "Приведены ошибка и матрица рассогласования,на которых наглядно все видно. Результат не является одним из лучших. можно сделать вывод, что исключать нужно переменные, которые лучше корелируют с результатом."
   ]
  },
  {
   "cell_type": "markdown",
   "id": "e4ec52b1",
   "metadata": {},
   "source": [
    "<h2>Вывод</h2>"
   ]
  },
  {
   "cell_type": "markdown",
   "id": "855a11f8",
   "metadata": {},
   "source": [
    "<p>Поставлена задача классификации с двумя классами для прогнозирования оттока клиентов банка.</p> \n",
    "<p>Представлена визуализация и описательная статистика для данных. Рассчитана матрица корреляции и представлена ее визуализация.</p>\n",
    "<p>Проведена проверка пропущенных значений и обработка категориальных признаков. Для бинарных категориальных признаков использован метод бинаризации, а для не бинарных категориальных признаков использован метод векторизации.</p> \n",
    "<p>Приведена причина по которой не используется нормализация количественных признаков.</p> \n",
    "<p>Проведено разбиение данных на обучающую и тестовую выборки.</p> \n",
    "<p>Для обучения модели используется <strong>метод k-ближайших соседей</strong>. Проведены опыты с разным количеством <strong>соседей</strong>. Можно сделать вывод - чем большее количество <strong>соседей</strong> используется при обучении модели, тем лучшие результаты показывает предсказание.</p>\n",
    "<p>Применены и другие классификаторы для обучения модели. Классификатор <strong>Случайный лес</strong> показал наилучшие результаты.</p>\n",
    "<p>Так же поборолись с несбалансированностью классов и поэксперементировали с исключением корреляционных переменных.</p>"
   ]
  }
 ],
 "metadata": {
  "kernelspec": {
   "display_name": "Python 3",
   "language": "python",
   "name": "python3"
  },
  "language_info": {
   "codemirror_mode": {
    "name": "ipython",
    "version": 3
   },
   "file_extension": ".py",
   "mimetype": "text/x-python",
   "name": "python",
   "nbconvert_exporter": "python",
   "pygments_lexer": "ipython3",
   "version": "3.8.8"
  }
 },
 "nbformat": 4,
 "nbformat_minor": 5
}
